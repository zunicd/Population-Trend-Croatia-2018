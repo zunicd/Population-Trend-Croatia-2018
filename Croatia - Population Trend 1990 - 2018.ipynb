{
 "cells": [
  {
   "cell_type": "markdown",
   "metadata": {},
   "source": [
    "# Croatia: Population Trend 1990 - 2018\n",
    "\n",
    "* [Presentation (slide-deck)](https://github.com/zunicd/Population-Trend-Croatia-2018/blob/master/Croatia_Population_Trend_1990-2018.pdf)\n",
    "\n",
    "* [Tableau Version](https://public.tableau.com/profile/damir.zunic#!/vizhome/CroatiaPopulationTrend1990-2018/TheStory)\n"
   ]
  },
  {
   "cell_type": "markdown",
   "metadata": {},
   "source": [
    "**Data Source:** [World Development Indicators, The World Bank](https://datacatalog.worldbank.org/dataset/world-development-indicators)\n",
    "\n",
    "**File:** The raw file, *WDIData.csv*, from downloaded archive was slightly transformed, resulted *in WDI_Indicators.csv*. Check this [notebook](https://github.com/zunicd/Population-Trend-Croatia-2018/blob/master/Transforming%20World%20Development%20Indicators.ipynb)."
   ]
  },
  {
   "cell_type": "markdown",
   "metadata": {},
   "source": [
    "## Motivation"
   ]
  },
  {
   "cell_type": "markdown",
   "metadata": {},
   "source": [
    "Being myself an emigrant from Croatia, I am interested in Croatian migration trends in last few decades. As one of ex-Yugoslav republics, in the last 30 years Croatia faced three events that could have an impact to its population:\n",
    "\n",
    "1. <strong style=\"color:Royalblue\">Yugoslav wars (1991 – 1995),</strong> led to the breakup of Yugoslavia\n",
    "* <strong style=\"color:Royalblue\">Great Recession (2008),</strong> with follow-up recessions shaking Croatia until 2014\n",
    "* <strong style=\"color:Royalblue\">Integration to the EU (2013),</strong> Croatians acquired right to move and reside freely in other EU member states\n",
    "\n",
    "This research is very personal to me. In addition to me emigrating (event #1) in 1995, my younger nephew emigrated in 2018 (event #3). So, let’s start crunching the data.\n"
   ]
  },
  {
   "cell_type": "markdown",
   "metadata": {},
   "source": [
    "## Library Imports"
   ]
  },
  {
   "cell_type": "code",
   "execution_count": 1,
   "metadata": {
    "ExecuteTime": {
     "end_time": "2019-12-24T20:08:35.475123Z",
     "start_time": "2019-12-24T20:08:29.518090Z"
    }
   },
   "outputs": [],
   "source": [
    "import pandas as pd\n",
    "import numpy as np\n",
    "\n",
    "import matplotlib.pyplot as plt\n",
    "import folium\n",
    "import seaborn as sns\n",
    "%matplotlib inline\n",
    "\n",
    "# Tick locating and formatting \n",
    "import matplotlib.ticker as tkr"
   ]
  },
  {
   "cell_type": "markdown",
   "metadata": {},
   "source": [
    "## Dataframe Preparation"
   ]
  },
  {
   "cell_type": "code",
   "execution_count": 2,
   "metadata": {
    "ExecuteTime": {
     "end_time": "2019-12-24T20:08:52.797554Z",
     "start_time": "2019-12-24T20:08:35.477124Z"
    },
    "scrolled": true
   },
   "outputs": [
    {
     "data": {
      "text/plain": [
       "(7998575, 6)"
      ]
     },
     "execution_count": 2,
     "metadata": {},
     "output_type": "execute_result"
    }
   ],
   "source": [
    "# read the file\n",
    "df = pd.read_csv('./Data/world-development-indicators/WDI_Indicators.csv')\n",
    "df.shape"
   ]
  },
  {
   "cell_type": "code",
   "execution_count": 3,
   "metadata": {
    "ExecuteTime": {
     "end_time": "2019-12-24T20:08:53.747493Z",
     "start_time": "2019-12-24T20:08:52.799495Z"
    }
   },
   "outputs": [
    {
     "data": {
      "text/plain": [
       "1599"
      ]
     },
     "execution_count": 3,
     "metadata": {},
     "output_type": "execute_result"
    }
   ],
   "source": [
    "# display number of unique indicators\n",
    "df.IndicatorName.nunique()"
   ]
  },
  {
   "cell_type": "code",
   "execution_count": 4,
   "metadata": {
    "ExecuteTime": {
     "end_time": "2019-12-24T20:08:53.775554Z",
     "start_time": "2019-12-24T20:08:53.749493Z"
    }
   },
   "outputs": [
    {
     "data": {
      "text/html": [
       "<div>\n",
       "<style scoped>\n",
       "    .dataframe tbody tr th:only-of-type {\n",
       "        vertical-align: middle;\n",
       "    }\n",
       "\n",
       "    .dataframe tbody tr th {\n",
       "        vertical-align: top;\n",
       "    }\n",
       "\n",
       "    .dataframe thead th {\n",
       "        text-align: right;\n",
       "    }\n",
       "</style>\n",
       "<table border=\"1\" class=\"dataframe\">\n",
       "  <thead>\n",
       "    <tr style=\"text-align: right;\">\n",
       "      <th></th>\n",
       "      <th>CountryName</th>\n",
       "      <th>CountryCode</th>\n",
       "      <th>IndicatorName</th>\n",
       "      <th>IndicatorCode</th>\n",
       "      <th>Year</th>\n",
       "      <th>Value</th>\n",
       "    </tr>\n",
       "  </thead>\n",
       "  <tbody>\n",
       "    <tr>\n",
       "      <th>0</th>\n",
       "      <td>Arab World</td>\n",
       "      <td>ARB</td>\n",
       "      <td>Adolescent fertility rate (births per 1,000 wo...</td>\n",
       "      <td>SP.ADO.TFRT</td>\n",
       "      <td>1960</td>\n",
       "      <td>134.772341</td>\n",
       "    </tr>\n",
       "    <tr>\n",
       "      <th>1</th>\n",
       "      <td>Arab World</td>\n",
       "      <td>ARB</td>\n",
       "      <td>Age dependency ratio (% of working-age populat...</td>\n",
       "      <td>SP.POP.DPND</td>\n",
       "      <td>1960</td>\n",
       "      <td>88.061110</td>\n",
       "    </tr>\n",
       "  </tbody>\n",
       "</table>\n",
       "</div>"
      ],
      "text/plain": [
       "  CountryName CountryCode                                      IndicatorName  \\\n",
       "0  Arab World         ARB  Adolescent fertility rate (births per 1,000 wo...   \n",
       "1  Arab World         ARB  Age dependency ratio (% of working-age populat...   \n",
       "\n",
       "  IndicatorCode  Year       Value  \n",
       "0   SP.ADO.TFRT  1960  134.772341  \n",
       "1   SP.POP.DPND  1960   88.061110  "
      ]
     },
     "execution_count": 4,
     "metadata": {},
     "output_type": "execute_result"
    }
   ],
   "source": [
    "df.head(2)"
   ]
  },
  {
   "cell_type": "markdown",
   "metadata": {},
   "source": [
    "### Keep only 4 needed indicators"
   ]
  },
  {
   "cell_type": "markdown",
   "metadata": {},
   "source": [
    "We will keep only the following four indicators:\n",
    "\n",
    "* Population, total\n",
    "* Net migration\n",
    "* GDP (constant 2010 US\\$)\n",
    "* GDP per capita (constant 2010 US\\$)"
   ]
  },
  {
   "cell_type": "code",
   "execution_count": 5,
   "metadata": {
    "ExecuteTime": {
     "end_time": "2019-12-24T20:08:53.782512Z",
     "start_time": "2019-12-24T20:08:53.776524Z"
    }
   },
   "outputs": [
    {
     "data": {
      "text/plain": [
       "0                     Population, total\n",
       "1                         Net migration\n",
       "2               GDP (constant 2010 US$)\n",
       "3    GDP per capita (constant 2010 US$)\n",
       "dtype: object"
      ]
     },
     "execution_count": 5,
     "metadata": {},
     "output_type": "execute_result"
    }
   ],
   "source": [
    "# define Pandas series for 4 inidicators\n",
    "inds = pd.Series(['Population, total','Net migration','GDP (constant 2010 US$)','GDP per capita (constant 2010 US$)'])\n",
    "inds"
   ]
  },
  {
   "cell_type": "code",
   "execution_count": 6,
   "metadata": {
    "ExecuteTime": {
     "end_time": "2019-12-24T20:08:54.053494Z",
     "start_time": "2019-12-24T20:08:53.785502Z"
    }
   },
   "outputs": [
    {
     "data": {
      "text/html": [
       "<div>\n",
       "<style scoped>\n",
       "    .dataframe tbody tr th:only-of-type {\n",
       "        vertical-align: middle;\n",
       "    }\n",
       "\n",
       "    .dataframe tbody tr th {\n",
       "        vertical-align: top;\n",
       "    }\n",
       "\n",
       "    .dataframe thead th {\n",
       "        text-align: right;\n",
       "    }\n",
       "</style>\n",
       "<table border=\"1\" class=\"dataframe\">\n",
       "  <thead>\n",
       "    <tr style=\"text-align: right;\">\n",
       "      <th></th>\n",
       "      <th>CountryName</th>\n",
       "      <th>CountryCode</th>\n",
       "      <th>IndicatorName</th>\n",
       "      <th>IndicatorCode</th>\n",
       "      <th>Year</th>\n",
       "      <th>Value</th>\n",
       "    </tr>\n",
       "  </thead>\n",
       "  <tbody>\n",
       "    <tr>\n",
       "      <th>0</th>\n",
       "      <td>Arab World</td>\n",
       "      <td>ARB</td>\n",
       "      <td>Population, total</td>\n",
       "      <td>SP.POP.TOTL</td>\n",
       "      <td>1960</td>\n",
       "      <td>92197753.0</td>\n",
       "    </tr>\n",
       "    <tr>\n",
       "      <th>1</th>\n",
       "      <td>Caribbean small states</td>\n",
       "      <td>CSS</td>\n",
       "      <td>Population, total</td>\n",
       "      <td>SP.POP.TOTL</td>\n",
       "      <td>1960</td>\n",
       "      <td>4194710.0</td>\n",
       "    </tr>\n",
       "  </tbody>\n",
       "</table>\n",
       "</div>"
      ],
      "text/plain": [
       "              CountryName CountryCode      IndicatorName IndicatorCode  Year  \\\n",
       "0              Arab World         ARB  Population, total   SP.POP.TOTL  1960   \n",
       "1  Caribbean small states         CSS  Population, total   SP.POP.TOTL  1960   \n",
       "\n",
       "        Value  \n",
       "0  92197753.0  \n",
       "1   4194710.0  "
      ]
     },
     "execution_count": 6,
     "metadata": {},
     "output_type": "execute_result"
    }
   ],
   "source": [
    "# indicators mask\n",
    "maski = df['IndicatorName'].isin(inds)\n",
    "# create new dataframe with 3 indicators only\n",
    "df4i = df[maski].copy().reset_index(drop=True)\n",
    "df4i.head(2)"
   ]
  },
  {
   "cell_type": "code",
   "execution_count": 7,
   "metadata": {
    "ExecuteTime": {
     "end_time": "2019-12-24T20:08:54.064493Z",
     "start_time": "2019-12-24T20:08:54.054494Z"
    }
   },
   "outputs": [
    {
     "name": "stdout",
     "output_type": "stream",
     "text": [
      "(41552, 6)\n",
      "4\n"
     ]
    }
   ],
   "source": [
    "# display shape\n",
    "print(df4i.shape)\n",
    "# display number of unique indicators\n",
    "print(df4i.IndicatorName.nunique())"
   ]
  },
  {
   "cell_type": "markdown",
   "metadata": {},
   "source": [
    "**Reshape dataframe to have 4 filtered indicators as columns**"
   ]
  },
  {
   "cell_type": "code",
   "execution_count": 8,
   "metadata": {
    "ExecuteTime": {
     "end_time": "2019-12-24T20:08:54.139531Z",
     "start_time": "2019-12-24T20:08:54.065493Z"
    }
   },
   "outputs": [
    {
     "data": {
      "text/html": [
       "<div>\n",
       "<style scoped>\n",
       "    .dataframe tbody tr th:only-of-type {\n",
       "        vertical-align: middle;\n",
       "    }\n",
       "\n",
       "    .dataframe tbody tr th {\n",
       "        vertical-align: top;\n",
       "    }\n",
       "\n",
       "    .dataframe thead th {\n",
       "        text-align: right;\n",
       "    }\n",
       "</style>\n",
       "<table border=\"1\" class=\"dataframe\">\n",
       "  <thead>\n",
       "    <tr style=\"text-align: right;\">\n",
       "      <th></th>\n",
       "      <th></th>\n",
       "      <th>IndicatorName</th>\n",
       "      <th>GDP (constant 2010 US$)</th>\n",
       "      <th>GDP per capita (constant 2010 US$)</th>\n",
       "      <th>Net migration</th>\n",
       "      <th>Population, total</th>\n",
       "    </tr>\n",
       "    <tr>\n",
       "      <th>CountryName</th>\n",
       "      <th>CountryCode</th>\n",
       "      <th>Year</th>\n",
       "      <th></th>\n",
       "      <th></th>\n",
       "      <th></th>\n",
       "      <th></th>\n",
       "    </tr>\n",
       "  </thead>\n",
       "  <tbody>\n",
       "    <tr>\n",
       "      <th rowspan=\"2\" valign=\"top\">Afghanistan</th>\n",
       "      <th rowspan=\"2\" valign=\"top\">AFG</th>\n",
       "      <th>1960</th>\n",
       "      <td>NaN</td>\n",
       "      <td>NaN</td>\n",
       "      <td>NaN</td>\n",
       "      <td>8996973.0</td>\n",
       "    </tr>\n",
       "    <tr>\n",
       "      <th>1961</th>\n",
       "      <td>NaN</td>\n",
       "      <td>NaN</td>\n",
       "      <td>NaN</td>\n",
       "      <td>9169410.0</td>\n",
       "    </tr>\n",
       "  </tbody>\n",
       "</table>\n",
       "</div>"
      ],
      "text/plain": [
       "IndicatorName                 GDP (constant 2010 US$)  \\\n",
       "CountryName CountryCode Year                            \n",
       "Afghanistan AFG         1960                      NaN   \n",
       "                        1961                      NaN   \n",
       "\n",
       "IndicatorName                 GDP per capita (constant 2010 US$)  \\\n",
       "CountryName CountryCode Year                                       \n",
       "Afghanistan AFG         1960                                 NaN   \n",
       "                        1961                                 NaN   \n",
       "\n",
       "IndicatorName                 Net migration  Population, total  \n",
       "CountryName CountryCode Year                                    \n",
       "Afghanistan AFG         1960            NaN          8996973.0  \n",
       "                        1961            NaN          9169410.0  "
      ]
     },
     "execution_count": 8,
     "metadata": {},
     "output_type": "execute_result"
    }
   ],
   "source": [
    "# reshape dataframe to have 4 indicators as columns\n",
    "data = df4i.pivot_table(values='Value',columns=['IndicatorName'], index=['CountryName','CountryCode','Year'])\n",
    "data.head(2)"
   ]
  },
  {
   "cell_type": "code",
   "execution_count": 9,
   "metadata": {
    "ExecuteTime": {
     "end_time": "2019-12-24T20:08:54.146494Z",
     "start_time": "2019-12-24T20:08:54.141494Z"
    }
   },
   "outputs": [
    {
     "data": {
      "text/plain": [
       "Index(['GDP (constant 2010 US$)', 'GDP per capita (constant 2010 US$)',\n",
       "       'Net migration', 'Population, total'],\n",
       "      dtype='object', name='IndicatorName')"
      ]
     },
     "execution_count": 9,
     "metadata": {},
     "output_type": "execute_result"
    }
   ],
   "source": [
    "data.columns"
   ]
  },
  {
   "cell_type": "code",
   "execution_count": 10,
   "metadata": {
    "ExecuteTime": {
     "end_time": "2019-12-24T20:08:54.165494Z",
     "start_time": "2019-12-24T20:08:54.148494Z"
    }
   },
   "outputs": [
    {
     "data": {
      "text/html": [
       "<div>\n",
       "<style scoped>\n",
       "    .dataframe tbody tr th:only-of-type {\n",
       "        vertical-align: middle;\n",
       "    }\n",
       "\n",
       "    .dataframe tbody tr th {\n",
       "        vertical-align: top;\n",
       "    }\n",
       "\n",
       "    .dataframe thead th {\n",
       "        text-align: right;\n",
       "    }\n",
       "</style>\n",
       "<table border=\"1\" class=\"dataframe\">\n",
       "  <thead>\n",
       "    <tr style=\"text-align: right;\">\n",
       "      <th></th>\n",
       "      <th>CountryName</th>\n",
       "      <th>CountryCode</th>\n",
       "      <th>Year</th>\n",
       "      <th>GDP (constant 2010 US$)</th>\n",
       "      <th>GDP per capita (constant 2010 US$)</th>\n",
       "      <th>Net migration</th>\n",
       "      <th>Population, total</th>\n",
       "    </tr>\n",
       "  </thead>\n",
       "  <tbody>\n",
       "    <tr>\n",
       "      <th>0</th>\n",
       "      <td>Afghanistan</td>\n",
       "      <td>AFG</td>\n",
       "      <td>1960</td>\n",
       "      <td>NaN</td>\n",
       "      <td>NaN</td>\n",
       "      <td>NaN</td>\n",
       "      <td>8996973.0</td>\n",
       "    </tr>\n",
       "    <tr>\n",
       "      <th>1</th>\n",
       "      <td>Afghanistan</td>\n",
       "      <td>AFG</td>\n",
       "      <td>1961</td>\n",
       "      <td>NaN</td>\n",
       "      <td>NaN</td>\n",
       "      <td>NaN</td>\n",
       "      <td>9169410.0</td>\n",
       "    </tr>\n",
       "  </tbody>\n",
       "</table>\n",
       "</div>"
      ],
      "text/plain": [
       "   CountryName CountryCode  Year  GDP (constant 2010 US$)  \\\n",
       "0  Afghanistan         AFG  1960                      NaN   \n",
       "1  Afghanistan         AFG  1961                      NaN   \n",
       "\n",
       "   GDP per capita (constant 2010 US$)  Net migration  Population, total  \n",
       "0                                 NaN            NaN          8996973.0  \n",
       "1                                 NaN            NaN          9169410.0  "
      ]
     },
     "execution_count": 10,
     "metadata": {},
     "output_type": "execute_result"
    }
   ],
   "source": [
    "# remove the name of columns axis\n",
    "data.columns.name=None\n",
    "# add all 3 indexes as columns and reset index to default integer index\n",
    "data.reset_index(inplace=True)\n",
    "data.head(2)"
   ]
  },
  {
   "cell_type": "code",
   "execution_count": 11,
   "metadata": {
    "ExecuteTime": {
     "end_time": "2019-12-24T20:08:54.175495Z",
     "start_time": "2019-12-24T20:08:54.166493Z"
    }
   },
   "outputs": [
    {
     "name": "stdout",
     "output_type": "stream",
     "text": [
      "<class 'pandas.core.frame.DataFrame'>\n",
      "RangeIndex: 15414 entries, 0 to 15413\n",
      "Data columns (total 7 columns):\n",
      "CountryName                           15414 non-null object\n",
      "CountryCode                           15414 non-null object\n",
      "Year                                  15414 non-null int64\n",
      "GDP (constant 2010 US$)               11639 non-null float64\n",
      "GDP per capita (constant 2010 US$)    11636 non-null float64\n",
      "Net migration                         2868 non-null float64\n",
      "Population, total                     15409 non-null float64\n",
      "dtypes: float64(4), int64(1), object(2)\n",
      "memory usage: 843.0+ KB\n"
     ]
    }
   ],
   "source": [
    "data.info()"
   ]
  },
  {
   "cell_type": "code",
   "execution_count": 12,
   "metadata": {
    "ExecuteTime": {
     "end_time": "2019-12-24T20:08:54.181496Z",
     "start_time": "2019-12-24T20:08:54.176532Z"
    }
   },
   "outputs": [
    {
     "data": {
      "text/plain": [
       "263"
      ]
     },
     "execution_count": 12,
     "metadata": {},
     "output_type": "execute_result"
    }
   ],
   "source": [
    "# Check the number of countries\n",
    "data.CountryName.nunique()"
   ]
  },
  {
   "cell_type": "markdown",
   "metadata": {},
   "source": [
    "**Save the dataframe to the `csv` file:**"
   ]
  },
  {
   "cell_type": "markdown",
   "metadata": {},
   "source": [
    "This version of dataframe is good to be used in Tableau Public so we will save it."
   ]
  },
  {
   "cell_type": "code",
   "execution_count": 13,
   "metadata": {
    "ExecuteTime": {
     "end_time": "2019-12-24T20:08:54.186495Z",
     "start_time": "2019-12-24T20:08:54.183497Z"
    }
   },
   "outputs": [],
   "source": [
    "# Uncomment below line to save dataframe for Tableau use\n",
    "# data.to_csv('./Data/world-development-indicators/WDI_Indicators-Tableau.csv', index=False)"
   ]
  },
  {
   "cell_type": "markdown",
   "metadata": {},
   "source": [
    "**Ex-Yugoslavia countries**"
   ]
  },
  {
   "cell_type": "code",
   "execution_count": 14,
   "metadata": {
    "ExecuteTime": {
     "end_time": "2019-12-24T20:08:54.194495Z",
     "start_time": "2019-12-24T20:08:54.187494Z"
    }
   },
   "outputs": [
    {
     "data": {
      "text/plain": [
       "0                   Croatia\n",
       "1                  Slovenia\n",
       "2                    Serbia\n",
       "3                Montenegro\n",
       "4           North Macedonia\n",
       "5    Bosnia and Herzegovina\n",
       "6                    Kosovo\n",
       "dtype: object"
      ]
     },
     "execution_count": 14,
     "metadata": {},
     "output_type": "execute_result"
    }
   ],
   "source": [
    "yugo_cntr = pd.Series(['Croatia','Slovenia','Serbia','Montenegro','North Macedonia','Bosnia and Herzegovina','Kosovo'])\n",
    "yugo_cntr"
   ]
  },
  {
   "cell_type": "code",
   "execution_count": 15,
   "metadata": {
    "ExecuteTime": {
     "end_time": "2019-12-24T20:08:54.212494Z",
     "start_time": "2019-12-24T20:08:54.195496Z"
    }
   },
   "outputs": [
    {
     "data": {
      "text/html": [
       "<div>\n",
       "<style scoped>\n",
       "    .dataframe tbody tr th:only-of-type {\n",
       "        vertical-align: middle;\n",
       "    }\n",
       "\n",
       "    .dataframe tbody tr th {\n",
       "        vertical-align: top;\n",
       "    }\n",
       "\n",
       "    .dataframe thead th {\n",
       "        text-align: right;\n",
       "    }\n",
       "</style>\n",
       "<table border=\"1\" class=\"dataframe\">\n",
       "  <thead>\n",
       "    <tr style=\"text-align: right;\">\n",
       "      <th></th>\n",
       "      <th>CountryName</th>\n",
       "      <th>CountryCode</th>\n",
       "      <th>Year</th>\n",
       "      <th>GDP (constant 2010 US$)</th>\n",
       "      <th>GDP per capita (constant 2010 US$)</th>\n",
       "      <th>Net migration</th>\n",
       "      <th>Population, total</th>\n",
       "    </tr>\n",
       "  </thead>\n",
       "  <tbody>\n",
       "    <tr>\n",
       "      <th>1475</th>\n",
       "      <td>Bosnia and Herzegovina</td>\n",
       "      <td>BIH</td>\n",
       "      <td>1960</td>\n",
       "      <td>NaN</td>\n",
       "      <td>NaN</td>\n",
       "      <td>NaN</td>\n",
       "      <td>3225668.0</td>\n",
       "    </tr>\n",
       "    <tr>\n",
       "      <th>1476</th>\n",
       "      <td>Bosnia and Herzegovina</td>\n",
       "      <td>BIH</td>\n",
       "      <td>1961</td>\n",
       "      <td>NaN</td>\n",
       "      <td>NaN</td>\n",
       "      <td>NaN</td>\n",
       "      <td>3288603.0</td>\n",
       "    </tr>\n",
       "  </tbody>\n",
       "</table>\n",
       "</div>"
      ],
      "text/plain": [
       "                 CountryName CountryCode  Year  GDP (constant 2010 US$)  \\\n",
       "1475  Bosnia and Herzegovina         BIH  1960                      NaN   \n",
       "1476  Bosnia and Herzegovina         BIH  1961                      NaN   \n",
       "\n",
       "      GDP per capita (constant 2010 US$)  Net migration  Population, total  \n",
       "1475                                 NaN            NaN          3225668.0  \n",
       "1476                                 NaN            NaN          3288603.0  "
      ]
     },
     "execution_count": 15,
     "metadata": {},
     "output_type": "execute_result"
    }
   ],
   "source": [
    "# mask for ex-Yugoslavia countries\n",
    "masky = data['CountryName'].isin(yugo_cntr)\n",
    "# new dataframe\n",
    "yugo = data[masky].copy()\n",
    "yugo.head(2)"
   ]
  },
  {
   "cell_type": "code",
   "execution_count": 16,
   "metadata": {
    "ExecuteTime": {
     "end_time": "2019-12-24T20:08:54.218498Z",
     "start_time": "2019-12-24T20:08:54.213497Z"
    }
   },
   "outputs": [
    {
     "data": {
      "text/plain": [
       "(383, 7)"
      ]
     },
     "execution_count": 16,
     "metadata": {},
     "output_type": "execute_result"
    }
   ],
   "source": [
    "yugo.shape"
   ]
  },
  {
   "cell_type": "code",
   "execution_count": 17,
   "metadata": {
    "ExecuteTime": {
     "end_time": "2019-12-24T20:08:54.225493Z",
     "start_time": "2019-12-24T20:08:54.220495Z"
    }
   },
   "outputs": [
    {
     "data": {
      "text/plain": [
       "['CountryName',\n",
       " 'CountryCode',\n",
       " 'Year',\n",
       " 'GDP (constant 2010 US$)',\n",
       " 'GDP per capita (constant 2010 US$)',\n",
       " 'Net migration',\n",
       " 'Population, total']"
      ]
     },
     "execution_count": 17,
     "metadata": {},
     "output_type": "execute_result"
    }
   ],
   "source": [
    "# we will use indicator names for plotting \n",
    "cols = yugo.columns.tolist()\n",
    "cols"
   ]
  },
  {
   "cell_type": "code",
   "execution_count": 18,
   "metadata": {
    "ExecuteTime": {
     "end_time": "2019-12-24T20:08:54.243493Z",
     "start_time": "2019-12-24T20:08:54.226493Z"
    }
   },
   "outputs": [
    {
     "data": {
      "text/html": [
       "<div>\n",
       "<style scoped>\n",
       "    .dataframe tbody tr th:only-of-type {\n",
       "        vertical-align: middle;\n",
       "    }\n",
       "\n",
       "    .dataframe tbody tr th {\n",
       "        vertical-align: top;\n",
       "    }\n",
       "\n",
       "    .dataframe thead th {\n",
       "        text-align: right;\n",
       "    }\n",
       "</style>\n",
       "<table border=\"1\" class=\"dataframe\">\n",
       "  <thead>\n",
       "    <tr style=\"text-align: right;\">\n",
       "      <th></th>\n",
       "      <th>CountryName</th>\n",
       "      <th>CountryCode</th>\n",
       "      <th>Year</th>\n",
       "      <th>GDP</th>\n",
       "      <th>GDPperCapita</th>\n",
       "      <th>NetMigration</th>\n",
       "      <th>PopulationTotal</th>\n",
       "    </tr>\n",
       "  </thead>\n",
       "  <tbody>\n",
       "    <tr>\n",
       "      <th>1475</th>\n",
       "      <td>Bosnia and Herzegovina</td>\n",
       "      <td>BIH</td>\n",
       "      <td>1960</td>\n",
       "      <td>NaN</td>\n",
       "      <td>NaN</td>\n",
       "      <td>NaN</td>\n",
       "      <td>3225668.0</td>\n",
       "    </tr>\n",
       "    <tr>\n",
       "      <th>1476</th>\n",
       "      <td>Bosnia and Herzegovina</td>\n",
       "      <td>BIH</td>\n",
       "      <td>1961</td>\n",
       "      <td>NaN</td>\n",
       "      <td>NaN</td>\n",
       "      <td>NaN</td>\n",
       "      <td>3288603.0</td>\n",
       "    </tr>\n",
       "  </tbody>\n",
       "</table>\n",
       "</div>"
      ],
      "text/plain": [
       "                 CountryName CountryCode  Year  GDP  GDPperCapita  \\\n",
       "1475  Bosnia and Herzegovina         BIH  1960  NaN           NaN   \n",
       "1476  Bosnia and Herzegovina         BIH  1961  NaN           NaN   \n",
       "\n",
       "      NetMigration  PopulationTotal  \n",
       "1475           NaN        3225668.0  \n",
       "1476           NaN        3288603.0  "
      ]
     },
     "execution_count": 18,
     "metadata": {},
     "output_type": "execute_result"
    }
   ],
   "source": [
    "# make shorter column names\n",
    "yugo = yugo.rename(columns={'GDP (constant 2010 US$)':'GDP',\n",
    "                            'GDP per capita (constant 2010 US$)':'GDPperCapita',\n",
    "                            'Net migration':'NetMigration',\n",
    "                            'Population, total':'PopulationTotal'})\n",
    "yugo.head(2)"
   ]
  },
  {
   "cell_type": "code",
   "execution_count": 19,
   "metadata": {
    "ExecuteTime": {
     "end_time": "2019-12-24T20:08:54.250495Z",
     "start_time": "2019-12-24T20:08:54.244493Z"
    }
   },
   "outputs": [
    {
     "data": {
      "text/plain": [
       "CountryName        383\n",
       "CountryCode        383\n",
       "Year               383\n",
       "GDP                172\n",
       "GDPperCapita       172\n",
       "NetMigration        66\n",
       "PopulationTotal    383\n",
       "dtype: int64"
      ]
     },
     "execution_count": 19,
     "metadata": {},
     "output_type": "execute_result"
    }
   ],
   "source": [
    "yugo.count()"
   ]
  },
  {
   "cell_type": "markdown",
   "metadata": {},
   "source": [
    "\n",
    "**Work with \"Population, total\"**\n",
    "\n",
    "The same time frame for all countries is 1990 - 2018"
   ]
  },
  {
   "cell_type": "code",
   "execution_count": 20,
   "metadata": {
    "ExecuteTime": {
     "end_time": "2019-12-24T20:08:54.268494Z",
     "start_time": "2019-12-24T20:08:54.252494Z"
    }
   },
   "outputs": [
    {
     "data": {
      "text/html": [
       "<div>\n",
       "<style scoped>\n",
       "    .dataframe tbody tr th:only-of-type {\n",
       "        vertical-align: middle;\n",
       "    }\n",
       "\n",
       "    .dataframe tbody tr th {\n",
       "        vertical-align: top;\n",
       "    }\n",
       "\n",
       "    .dataframe thead th {\n",
       "        text-align: right;\n",
       "    }\n",
       "</style>\n",
       "<table border=\"1\" class=\"dataframe\">\n",
       "  <thead>\n",
       "    <tr style=\"text-align: right;\">\n",
       "      <th></th>\n",
       "      <th>CountryName</th>\n",
       "      <th>CountryCode</th>\n",
       "      <th>Year</th>\n",
       "      <th>PopulationTotal</th>\n",
       "    </tr>\n",
       "  </thead>\n",
       "  <tbody>\n",
       "    <tr>\n",
       "      <th>1505</th>\n",
       "      <td>Bosnia and Herzegovina</td>\n",
       "      <td>BIH</td>\n",
       "      <td>1990</td>\n",
       "      <td>4463423.0</td>\n",
       "    </tr>\n",
       "    <tr>\n",
       "      <th>1506</th>\n",
       "      <td>Bosnia and Herzegovina</td>\n",
       "      <td>BIH</td>\n",
       "      <td>1991</td>\n",
       "      <td>4369319.0</td>\n",
       "    </tr>\n",
       "  </tbody>\n",
       "</table>\n",
       "</div>"
      ],
      "text/plain": [
       "                 CountryName CountryCode  Year  PopulationTotal\n",
       "1505  Bosnia and Herzegovina         BIH  1990        4463423.0\n",
       "1506  Bosnia and Herzegovina         BIH  1991        4369319.0"
      ]
     },
     "execution_count": 20,
     "metadata": {},
     "output_type": "execute_result"
    }
   ],
   "source": [
    "# population dataframe\n",
    "pop_yugo = yugo.drop(['GDP','GDPperCapita','NetMigration'],axis=1)\n",
    "# keep data after 1989\n",
    "pop_yugo90 = pop_yugo[pop_yugo['Year'] > 1989]\n",
    "pop_yugo90.head(2)"
   ]
  },
  {
   "cell_type": "markdown",
   "metadata": {},
   "source": [
    "## Display population trend (growth/decline) for all countries##\n",
    " \n",
    " "
   ]
  },
  {
   "cell_type": "markdown",
   "metadata": {},
   "source": [
    "**Transform the dataframe**"
   ]
  },
  {
   "cell_type": "code",
   "execution_count": 21,
   "metadata": {
    "ExecuteTime": {
     "end_time": "2019-12-24T20:08:54.301498Z",
     "start_time": "2019-12-24T20:08:54.269494Z"
    }
   },
   "outputs": [
    {
     "data": {
      "text/html": [
       "<div>\n",
       "<style scoped>\n",
       "    .dataframe tbody tr th:only-of-type {\n",
       "        vertical-align: middle;\n",
       "    }\n",
       "\n",
       "    .dataframe tbody tr th {\n",
       "        vertical-align: top;\n",
       "    }\n",
       "\n",
       "    .dataframe thead th {\n",
       "        text-align: right;\n",
       "    }\n",
       "</style>\n",
       "<table border=\"1\" class=\"dataframe\">\n",
       "  <thead>\n",
       "    <tr style=\"text-align: right;\">\n",
       "      <th></th>\n",
       "      <th>Year</th>\n",
       "      <th>1990</th>\n",
       "      <th>1991</th>\n",
       "      <th>1992</th>\n",
       "      <th>1993</th>\n",
       "      <th>1994</th>\n",
       "      <th>1995</th>\n",
       "      <th>1996</th>\n",
       "      <th>1997</th>\n",
       "      <th>1998</th>\n",
       "      <th>1999</th>\n",
       "      <th>...</th>\n",
       "      <th>2009</th>\n",
       "      <th>2010</th>\n",
       "      <th>2011</th>\n",
       "      <th>2012</th>\n",
       "      <th>2013</th>\n",
       "      <th>2014</th>\n",
       "      <th>2015</th>\n",
       "      <th>2016</th>\n",
       "      <th>2017</th>\n",
       "      <th>2018</th>\n",
       "    </tr>\n",
       "    <tr>\n",
       "      <th>CountryName</th>\n",
       "      <th>CountryCode</th>\n",
       "      <th></th>\n",
       "      <th></th>\n",
       "      <th></th>\n",
       "      <th></th>\n",
       "      <th></th>\n",
       "      <th></th>\n",
       "      <th></th>\n",
       "      <th></th>\n",
       "      <th></th>\n",
       "      <th></th>\n",
       "      <th></th>\n",
       "      <th></th>\n",
       "      <th></th>\n",
       "      <th></th>\n",
       "      <th></th>\n",
       "      <th></th>\n",
       "      <th></th>\n",
       "      <th></th>\n",
       "      <th></th>\n",
       "      <th></th>\n",
       "      <th></th>\n",
       "    </tr>\n",
       "  </thead>\n",
       "  <tbody>\n",
       "    <tr>\n",
       "      <th>Bosnia and Herzegovina</th>\n",
       "      <th>BIH</th>\n",
       "      <td>4463423.0</td>\n",
       "      <td>4369319.0</td>\n",
       "      <td>4233676.0</td>\n",
       "      <td>4078937.0</td>\n",
       "      <td>3936524.0</td>\n",
       "      <td>3829050.0</td>\n",
       "      <td>3764425.0</td>\n",
       "      <td>3736070.0</td>\n",
       "      <td>3734337.0</td>\n",
       "      <td>3743354.0</td>\n",
       "      <td>...</td>\n",
       "      <td>3735938.0</td>\n",
       "      <td>3705472.0</td>\n",
       "      <td>3661175.0</td>\n",
       "      <td>3604972.0</td>\n",
       "      <td>3542605.0</td>\n",
       "      <td>3482104.0</td>\n",
       "      <td>3429361.0</td>\n",
       "      <td>3386267.0</td>\n",
       "      <td>3351527.0</td>\n",
       "      <td>3323929.0</td>\n",
       "    </tr>\n",
       "    <tr>\n",
       "      <th>Croatia</th>\n",
       "      <th>HRV</th>\n",
       "      <td>4777368.0</td>\n",
       "      <td>4689022.0</td>\n",
       "      <td>4575818.0</td>\n",
       "      <td>4600463.0</td>\n",
       "      <td>4652024.0</td>\n",
       "      <td>4620030.0</td>\n",
       "      <td>4557097.0</td>\n",
       "      <td>4534920.0</td>\n",
       "      <td>4532135.0</td>\n",
       "      <td>4512597.0</td>\n",
       "      <td>...</td>\n",
       "      <td>4305181.0</td>\n",
       "      <td>4295427.0</td>\n",
       "      <td>4280622.0</td>\n",
       "      <td>4267558.0</td>\n",
       "      <td>4255689.0</td>\n",
       "      <td>4238389.0</td>\n",
       "      <td>4203604.0</td>\n",
       "      <td>4174349.0</td>\n",
       "      <td>4124531.0</td>\n",
       "      <td>4089400.0</td>\n",
       "    </tr>\n",
       "  </tbody>\n",
       "</table>\n",
       "<p>2 rows × 29 columns</p>\n",
       "</div>"
      ],
      "text/plain": [
       "Year                                     1990       1991       1992  \\\n",
       "CountryName            CountryCode                                    \n",
       "Bosnia and Herzegovina BIH          4463423.0  4369319.0  4233676.0   \n",
       "Croatia                HRV          4777368.0  4689022.0  4575818.0   \n",
       "\n",
       "Year                                     1993       1994       1995  \\\n",
       "CountryName            CountryCode                                    \n",
       "Bosnia and Herzegovina BIH          4078937.0  3936524.0  3829050.0   \n",
       "Croatia                HRV          4600463.0  4652024.0  4620030.0   \n",
       "\n",
       "Year                                     1996       1997       1998  \\\n",
       "CountryName            CountryCode                                    \n",
       "Bosnia and Herzegovina BIH          3764425.0  3736070.0  3734337.0   \n",
       "Croatia                HRV          4557097.0  4534920.0  4532135.0   \n",
       "\n",
       "Year                                     1999  ...       2009       2010  \\\n",
       "CountryName            CountryCode             ...                         \n",
       "Bosnia and Herzegovina BIH          3743354.0  ...  3735938.0  3705472.0   \n",
       "Croatia                HRV          4512597.0  ...  4305181.0  4295427.0   \n",
       "\n",
       "Year                                     2011       2012       2013  \\\n",
       "CountryName            CountryCode                                    \n",
       "Bosnia and Herzegovina BIH          3661175.0  3604972.0  3542605.0   \n",
       "Croatia                HRV          4280622.0  4267558.0  4255689.0   \n",
       "\n",
       "Year                                     2014       2015       2016  \\\n",
       "CountryName            CountryCode                                    \n",
       "Bosnia and Herzegovina BIH          3482104.0  3429361.0  3386267.0   \n",
       "Croatia                HRV          4238389.0  4203604.0  4174349.0   \n",
       "\n",
       "Year                                     2017       2018  \n",
       "CountryName            CountryCode                        \n",
       "Bosnia and Herzegovina BIH          3351527.0  3323929.0  \n",
       "Croatia                HRV          4124531.0  4089400.0  \n",
       "\n",
       "[2 rows x 29 columns]"
      ]
     },
     "execution_count": 21,
     "metadata": {},
     "output_type": "execute_result"
    }
   ],
   "source": [
    "# reshape/pivot dataframe\n",
    "pop_y = pop_yugo90.pivot_table(values='PopulationTotal',index=('CountryName','CountryCode'),columns='Year')\n",
    "pop_y.head(2)"
   ]
  },
  {
   "cell_type": "code",
   "execution_count": 22,
   "metadata": {
    "ExecuteTime": {
     "end_time": "2019-12-24T20:08:54.327495Z",
     "start_time": "2019-12-24T20:08:54.302494Z"
    }
   },
   "outputs": [
    {
     "data": {
      "text/html": [
       "<div>\n",
       "<style scoped>\n",
       "    .dataframe tbody tr th:only-of-type {\n",
       "        vertical-align: middle;\n",
       "    }\n",
       "\n",
       "    .dataframe tbody tr th {\n",
       "        vertical-align: top;\n",
       "    }\n",
       "\n",
       "    .dataframe thead th {\n",
       "        text-align: right;\n",
       "    }\n",
       "</style>\n",
       "<table border=\"1\" class=\"dataframe\">\n",
       "  <thead>\n",
       "    <tr style=\"text-align: right;\">\n",
       "      <th></th>\n",
       "      <th>CountryName</th>\n",
       "      <th>CountryCode</th>\n",
       "      <th>1990</th>\n",
       "      <th>1991</th>\n",
       "      <th>1992</th>\n",
       "      <th>1993</th>\n",
       "      <th>1994</th>\n",
       "      <th>1995</th>\n",
       "      <th>1996</th>\n",
       "      <th>1997</th>\n",
       "      <th>...</th>\n",
       "      <th>2009</th>\n",
       "      <th>2010</th>\n",
       "      <th>2011</th>\n",
       "      <th>2012</th>\n",
       "      <th>2013</th>\n",
       "      <th>2014</th>\n",
       "      <th>2015</th>\n",
       "      <th>2016</th>\n",
       "      <th>2017</th>\n",
       "      <th>2018</th>\n",
       "    </tr>\n",
       "  </thead>\n",
       "  <tbody>\n",
       "    <tr>\n",
       "      <th>0</th>\n",
       "      <td>Bosnia and Herzegovina</td>\n",
       "      <td>BIH</td>\n",
       "      <td>4463423.0</td>\n",
       "      <td>4369319.0</td>\n",
       "      <td>4233676.0</td>\n",
       "      <td>4078937.0</td>\n",
       "      <td>3936524.0</td>\n",
       "      <td>3829050.0</td>\n",
       "      <td>3764425.0</td>\n",
       "      <td>3736070.0</td>\n",
       "      <td>...</td>\n",
       "      <td>3735938.0</td>\n",
       "      <td>3705472.0</td>\n",
       "      <td>3661175.0</td>\n",
       "      <td>3604972.0</td>\n",
       "      <td>3542605.0</td>\n",
       "      <td>3482104.0</td>\n",
       "      <td>3429361.0</td>\n",
       "      <td>3386267.0</td>\n",
       "      <td>3351527.0</td>\n",
       "      <td>3323929.0</td>\n",
       "    </tr>\n",
       "    <tr>\n",
       "      <th>1</th>\n",
       "      <td>Croatia</td>\n",
       "      <td>HRV</td>\n",
       "      <td>4777368.0</td>\n",
       "      <td>4689022.0</td>\n",
       "      <td>4575818.0</td>\n",
       "      <td>4600463.0</td>\n",
       "      <td>4652024.0</td>\n",
       "      <td>4620030.0</td>\n",
       "      <td>4557097.0</td>\n",
       "      <td>4534920.0</td>\n",
       "      <td>...</td>\n",
       "      <td>4305181.0</td>\n",
       "      <td>4295427.0</td>\n",
       "      <td>4280622.0</td>\n",
       "      <td>4267558.0</td>\n",
       "      <td>4255689.0</td>\n",
       "      <td>4238389.0</td>\n",
       "      <td>4203604.0</td>\n",
       "      <td>4174349.0</td>\n",
       "      <td>4124531.0</td>\n",
       "      <td>4089400.0</td>\n",
       "    </tr>\n",
       "  </tbody>\n",
       "</table>\n",
       "<p>2 rows × 31 columns</p>\n",
       "</div>"
      ],
      "text/plain": [
       "              CountryName CountryCode       1990       1991       1992  \\\n",
       "0  Bosnia and Herzegovina         BIH  4463423.0  4369319.0  4233676.0   \n",
       "1                 Croatia         HRV  4777368.0  4689022.0  4575818.0   \n",
       "\n",
       "        1993       1994       1995       1996       1997  ...       2009  \\\n",
       "0  4078937.0  3936524.0  3829050.0  3764425.0  3736070.0  ...  3735938.0   \n",
       "1  4600463.0  4652024.0  4620030.0  4557097.0  4534920.0  ...  4305181.0   \n",
       "\n",
       "        2010       2011       2012       2013       2014       2015  \\\n",
       "0  3705472.0  3661175.0  3604972.0  3542605.0  3482104.0  3429361.0   \n",
       "1  4295427.0  4280622.0  4267558.0  4255689.0  4238389.0  4203604.0   \n",
       "\n",
       "        2016       2017       2018  \n",
       "0  3386267.0  3351527.0  3323929.0  \n",
       "1  4174349.0  4124531.0  4089400.0  \n",
       "\n",
       "[2 rows x 31 columns]"
      ]
     },
     "execution_count": 22,
     "metadata": {},
     "output_type": "execute_result"
    }
   ],
   "source": [
    "# remove name of columns and reset index\n",
    "pop_y.columns.name = None\n",
    "pop_y.reset_index(inplace=True)\n",
    "pop_y.head(2)"
   ]
  },
  {
   "cell_type": "markdown",
   "metadata": {},
   "source": [
    "**Calculate population growth/decline for the time frame 1990 - 2018**\n",
    "\n",
    "\n",
    "\n",
    "\n",
    "Formula:\n",
    "\n",
    "\n",
    "$\\displaystyle PR = \\frac{(V_{Present} - V_{Past})}{V_{Past}} * 100$    \n",
    "\n",
    "where\n",
    "\n",
    "$PR$ = Percent Rate; $V_{Present}$ = Present Value; $V_{Past}$ = Past Value\n",
    "\n",
    "***"
   ]
  },
  {
   "cell_type": "code",
   "execution_count": 23,
   "metadata": {
    "ExecuteTime": {
     "end_time": "2019-12-24T20:08:54.365494Z",
     "start_time": "2019-12-24T20:08:54.328496Z"
    }
   },
   "outputs": [
    {
     "data": {
      "text/html": [
       "<div>\n",
       "<style scoped>\n",
       "    .dataframe tbody tr th:only-of-type {\n",
       "        vertical-align: middle;\n",
       "    }\n",
       "\n",
       "    .dataframe tbody tr th {\n",
       "        vertical-align: top;\n",
       "    }\n",
       "\n",
       "    .dataframe thead th {\n",
       "        text-align: right;\n",
       "    }\n",
       "</style>\n",
       "<table border=\"1\" class=\"dataframe\">\n",
       "  <thead>\n",
       "    <tr style=\"text-align: right;\">\n",
       "      <th></th>\n",
       "      <th>CountryName</th>\n",
       "      <th>CountryCode</th>\n",
       "      <th>1990</th>\n",
       "      <th>1991</th>\n",
       "      <th>1992</th>\n",
       "      <th>1993</th>\n",
       "      <th>1994</th>\n",
       "      <th>1995</th>\n",
       "      <th>1996</th>\n",
       "      <th>1997</th>\n",
       "      <th>...</th>\n",
       "      <th>2010</th>\n",
       "      <th>2011</th>\n",
       "      <th>2012</th>\n",
       "      <th>2013</th>\n",
       "      <th>2014</th>\n",
       "      <th>2015</th>\n",
       "      <th>2016</th>\n",
       "      <th>2017</th>\n",
       "      <th>2018</th>\n",
       "      <th>Population Growth (%)</th>\n",
       "    </tr>\n",
       "  </thead>\n",
       "  <tbody>\n",
       "    <tr>\n",
       "      <th>0</th>\n",
       "      <td>Bosnia and Herzegovina</td>\n",
       "      <td>BIH</td>\n",
       "      <td>4463423.0</td>\n",
       "      <td>4369319.0</td>\n",
       "      <td>4233676.0</td>\n",
       "      <td>4078937.0</td>\n",
       "      <td>3936524.0</td>\n",
       "      <td>3829050.0</td>\n",
       "      <td>3764425.0</td>\n",
       "      <td>3736070.0</td>\n",
       "      <td>...</td>\n",
       "      <td>3705472.0</td>\n",
       "      <td>3661175.0</td>\n",
       "      <td>3604972.0</td>\n",
       "      <td>3542605.0</td>\n",
       "      <td>3482104.0</td>\n",
       "      <td>3429361.0</td>\n",
       "      <td>3386267.0</td>\n",
       "      <td>3351527.0</td>\n",
       "      <td>3323929.0</td>\n",
       "      <td>-25.53</td>\n",
       "    </tr>\n",
       "    <tr>\n",
       "      <th>1</th>\n",
       "      <td>Croatia</td>\n",
       "      <td>HRV</td>\n",
       "      <td>4777368.0</td>\n",
       "      <td>4689022.0</td>\n",
       "      <td>4575818.0</td>\n",
       "      <td>4600463.0</td>\n",
       "      <td>4652024.0</td>\n",
       "      <td>4620030.0</td>\n",
       "      <td>4557097.0</td>\n",
       "      <td>4534920.0</td>\n",
       "      <td>...</td>\n",
       "      <td>4295427.0</td>\n",
       "      <td>4280622.0</td>\n",
       "      <td>4267558.0</td>\n",
       "      <td>4255689.0</td>\n",
       "      <td>4238389.0</td>\n",
       "      <td>4203604.0</td>\n",
       "      <td>4174349.0</td>\n",
       "      <td>4124531.0</td>\n",
       "      <td>4089400.0</td>\n",
       "      <td>-14.40</td>\n",
       "    </tr>\n",
       "    <tr>\n",
       "      <th>2</th>\n",
       "      <td>Kosovo</td>\n",
       "      <td>XKX</td>\n",
       "      <td>1862000.0</td>\n",
       "      <td>1898000.0</td>\n",
       "      <td>1932000.0</td>\n",
       "      <td>1965000.0</td>\n",
       "      <td>1997000.0</td>\n",
       "      <td>2029000.0</td>\n",
       "      <td>2059000.0</td>\n",
       "      <td>2086000.0</td>\n",
       "      <td>...</td>\n",
       "      <td>1775680.0</td>\n",
       "      <td>1791000.0</td>\n",
       "      <td>1805200.0</td>\n",
       "      <td>1824100.0</td>\n",
       "      <td>1821800.0</td>\n",
       "      <td>1801800.0</td>\n",
       "      <td>1816200.0</td>\n",
       "      <td>1830700.0</td>\n",
       "      <td>1845300.0</td>\n",
       "      <td>-0.90</td>\n",
       "    </tr>\n",
       "    <tr>\n",
       "      <th>3</th>\n",
       "      <td>Montenegro</td>\n",
       "      <td>MNE</td>\n",
       "      <td>606372.0</td>\n",
       "      <td>607105.0</td>\n",
       "      <td>608516.0</td>\n",
       "      <td>610170.0</td>\n",
       "      <td>611389.0</td>\n",
       "      <td>611712.0</td>\n",
       "      <td>611003.0</td>\n",
       "      <td>609520.0</td>\n",
       "      <td>...</td>\n",
       "      <td>619428.0</td>\n",
       "      <td>620079.0</td>\n",
       "      <td>620601.0</td>\n",
       "      <td>621207.0</td>\n",
       "      <td>621810.0</td>\n",
       "      <td>622159.0</td>\n",
       "      <td>622303.0</td>\n",
       "      <td>622373.0</td>\n",
       "      <td>622345.0</td>\n",
       "      <td>2.63</td>\n",
       "    </tr>\n",
       "    <tr>\n",
       "      <th>4</th>\n",
       "      <td>North Macedonia</td>\n",
       "      <td>MKD</td>\n",
       "      <td>1996228.0</td>\n",
       "      <td>1993302.0</td>\n",
       "      <td>1988659.0</td>\n",
       "      <td>1984028.0</td>\n",
       "      <td>1981703.0</td>\n",
       "      <td>1983252.0</td>\n",
       "      <td>1989443.0</td>\n",
       "      <td>1999598.0</td>\n",
       "      <td>...</td>\n",
       "      <td>2070741.0</td>\n",
       "      <td>2072487.0</td>\n",
       "      <td>2074278.0</td>\n",
       "      <td>2076067.0</td>\n",
       "      <td>2077775.0</td>\n",
       "      <td>2079328.0</td>\n",
       "      <td>2080745.0</td>\n",
       "      <td>2081996.0</td>\n",
       "      <td>2082958.0</td>\n",
       "      <td>4.34</td>\n",
       "    </tr>\n",
       "    <tr>\n",
       "      <th>5</th>\n",
       "      <td>Serbia</td>\n",
       "      <td>SRB</td>\n",
       "      <td>7586000.0</td>\n",
       "      <td>7595636.0</td>\n",
       "      <td>7646424.0</td>\n",
       "      <td>7699307.0</td>\n",
       "      <td>7734639.0</td>\n",
       "      <td>7625357.0</td>\n",
       "      <td>7617794.0</td>\n",
       "      <td>7596501.0</td>\n",
       "      <td>...</td>\n",
       "      <td>7291436.0</td>\n",
       "      <td>7234099.0</td>\n",
       "      <td>7199077.0</td>\n",
       "      <td>7164132.0</td>\n",
       "      <td>7130576.0</td>\n",
       "      <td>7095383.0</td>\n",
       "      <td>7058322.0</td>\n",
       "      <td>7020858.0</td>\n",
       "      <td>6982084.0</td>\n",
       "      <td>-7.96</td>\n",
       "    </tr>\n",
       "    <tr>\n",
       "      <th>6</th>\n",
       "      <td>Slovenia</td>\n",
       "      <td>SVN</td>\n",
       "      <td>1998161.0</td>\n",
       "      <td>1999429.0</td>\n",
       "      <td>1996498.0</td>\n",
       "      <td>1991746.0</td>\n",
       "      <td>1989443.0</td>\n",
       "      <td>1989872.0</td>\n",
       "      <td>1988628.0</td>\n",
       "      <td>1985956.0</td>\n",
       "      <td>...</td>\n",
       "      <td>2048583.0</td>\n",
       "      <td>2052843.0</td>\n",
       "      <td>2057159.0</td>\n",
       "      <td>2059953.0</td>\n",
       "      <td>2061980.0</td>\n",
       "      <td>2063531.0</td>\n",
       "      <td>2065042.0</td>\n",
       "      <td>2066388.0</td>\n",
       "      <td>2067372.0</td>\n",
       "      <td>3.46</td>\n",
       "    </tr>\n",
       "  </tbody>\n",
       "</table>\n",
       "<p>7 rows × 32 columns</p>\n",
       "</div>"
      ],
      "text/plain": [
       "              CountryName CountryCode       1990       1991       1992  \\\n",
       "0  Bosnia and Herzegovina         BIH  4463423.0  4369319.0  4233676.0   \n",
       "1                 Croatia         HRV  4777368.0  4689022.0  4575818.0   \n",
       "2                  Kosovo         XKX  1862000.0  1898000.0  1932000.0   \n",
       "3              Montenegro         MNE   606372.0   607105.0   608516.0   \n",
       "4         North Macedonia         MKD  1996228.0  1993302.0  1988659.0   \n",
       "5                  Serbia         SRB  7586000.0  7595636.0  7646424.0   \n",
       "6                Slovenia         SVN  1998161.0  1999429.0  1996498.0   \n",
       "\n",
       "        1993       1994       1995       1996       1997  ...       2010  \\\n",
       "0  4078937.0  3936524.0  3829050.0  3764425.0  3736070.0  ...  3705472.0   \n",
       "1  4600463.0  4652024.0  4620030.0  4557097.0  4534920.0  ...  4295427.0   \n",
       "2  1965000.0  1997000.0  2029000.0  2059000.0  2086000.0  ...  1775680.0   \n",
       "3   610170.0   611389.0   611712.0   611003.0   609520.0  ...   619428.0   \n",
       "4  1984028.0  1981703.0  1983252.0  1989443.0  1999598.0  ...  2070741.0   \n",
       "5  7699307.0  7734639.0  7625357.0  7617794.0  7596501.0  ...  7291436.0   \n",
       "6  1991746.0  1989443.0  1989872.0  1988628.0  1985956.0  ...  2048583.0   \n",
       "\n",
       "        2011       2012       2013       2014       2015       2016  \\\n",
       "0  3661175.0  3604972.0  3542605.0  3482104.0  3429361.0  3386267.0   \n",
       "1  4280622.0  4267558.0  4255689.0  4238389.0  4203604.0  4174349.0   \n",
       "2  1791000.0  1805200.0  1824100.0  1821800.0  1801800.0  1816200.0   \n",
       "3   620079.0   620601.0   621207.0   621810.0   622159.0   622303.0   \n",
       "4  2072487.0  2074278.0  2076067.0  2077775.0  2079328.0  2080745.0   \n",
       "5  7234099.0  7199077.0  7164132.0  7130576.0  7095383.0  7058322.0   \n",
       "6  2052843.0  2057159.0  2059953.0  2061980.0  2063531.0  2065042.0   \n",
       "\n",
       "        2017       2018  Population Growth (%)  \n",
       "0  3351527.0  3323929.0                 -25.53  \n",
       "1  4124531.0  4089400.0                 -14.40  \n",
       "2  1830700.0  1845300.0                  -0.90  \n",
       "3   622373.0   622345.0                   2.63  \n",
       "4  2081996.0  2082958.0                   4.34  \n",
       "5  7020858.0  6982084.0                  -7.96  \n",
       "6  2066388.0  2067372.0                   3.46  \n",
       "\n",
       "[7 rows x 32 columns]"
      ]
     },
     "execution_count": 23,
     "metadata": {},
     "output_type": "execute_result"
    }
   ],
   "source": [
    "# calculate percent rate and add new column\n",
    "pop_y['Population Growth (%)'] = round((((pop_y[2018] - pop_y[1990]) / pop_y[1990]) * 100),2)\n",
    "pop_y"
   ]
  },
  {
   "cell_type": "markdown",
   "metadata": {},
   "source": [
    "### Setup data for plotting. \n",
    "\n",
    "Create the data frame with just country codes and population growth values.\n"
   ]
  },
  {
   "cell_type": "code",
   "execution_count": 24,
   "metadata": {
    "ExecuteTime": {
     "end_time": "2019-12-24T20:08:54.382495Z",
     "start_time": "2019-12-24T20:08:54.366496Z"
    },
    "scrolled": true
   },
   "outputs": [
    {
     "data": {
      "text/html": [
       "<div>\n",
       "<style scoped>\n",
       "    .dataframe tbody tr th:only-of-type {\n",
       "        vertical-align: middle;\n",
       "    }\n",
       "\n",
       "    .dataframe tbody tr th {\n",
       "        vertical-align: top;\n",
       "    }\n",
       "\n",
       "    .dataframe thead th {\n",
       "        text-align: right;\n",
       "    }\n",
       "</style>\n",
       "<table border=\"1\" class=\"dataframe\">\n",
       "  <thead>\n",
       "    <tr style=\"text-align: right;\">\n",
       "      <th></th>\n",
       "      <th>CountryCode</th>\n",
       "      <th>Population Growth (%)</th>\n",
       "    </tr>\n",
       "  </thead>\n",
       "  <tbody>\n",
       "    <tr>\n",
       "      <th>0</th>\n",
       "      <td>BIH</td>\n",
       "      <td>-25.53</td>\n",
       "    </tr>\n",
       "    <tr>\n",
       "      <th>1</th>\n",
       "      <td>HRV</td>\n",
       "      <td>-14.40</td>\n",
       "    </tr>\n",
       "    <tr>\n",
       "      <th>2</th>\n",
       "      <td>XKX</td>\n",
       "      <td>-0.90</td>\n",
       "    </tr>\n",
       "    <tr>\n",
       "      <th>3</th>\n",
       "      <td>MNE</td>\n",
       "      <td>2.63</td>\n",
       "    </tr>\n",
       "    <tr>\n",
       "      <th>4</th>\n",
       "      <td>MKD</td>\n",
       "      <td>4.34</td>\n",
       "    </tr>\n",
       "    <tr>\n",
       "      <th>5</th>\n",
       "      <td>SRB</td>\n",
       "      <td>-7.96</td>\n",
       "    </tr>\n",
       "    <tr>\n",
       "      <th>6</th>\n",
       "      <td>SVN</td>\n",
       "      <td>3.46</td>\n",
       "    </tr>\n",
       "  </tbody>\n",
       "</table>\n",
       "</div>"
      ],
      "text/plain": [
       "  CountryCode  Population Growth (%)\n",
       "0         BIH                 -25.53\n",
       "1         HRV                 -14.40\n",
       "2         XKX                  -0.90\n",
       "3         MNE                   2.63\n",
       "4         MKD                   4.34\n",
       "5         SRB                  -7.96\n",
       "6         SVN                   3.46"
      ]
     },
     "execution_count": 24,
     "metadata": {},
     "output_type": "execute_result"
    }
   ],
   "source": [
    "plot_data = pop_y[['CountryCode','Population Growth (%)']]\n",
    "plot_data"
   ]
  },
  {
   "cell_type": "markdown",
   "metadata": {},
   "source": [
    "**Country coordinates for plotting**"
   ]
  },
  {
   "cell_type": "markdown",
   "metadata": {},
   "source": [
    "The GeoJSON file for ex-Yugoslavia countries was built on this site: https://geojson-maps.ash.ms/.\n",
    "\n",
    "The country code for Kosovo, XKX, was used to manually update the `sov_a3` code in the GeoJSON file."
   ]
  },
  {
   "cell_type": "code",
   "execution_count": 25,
   "metadata": {
    "ExecuteTime": {
     "end_time": "2019-12-24T20:08:54.386495Z",
     "start_time": "2019-12-24T20:08:54.383496Z"
    }
   },
   "outputs": [],
   "source": [
    "country_geo = './Data/custom_geo_high.json'"
   ]
  },
  {
   "cell_type": "markdown",
   "metadata": {},
   "source": [
    "**Setup folium and choropleth maps**"
   ]
  },
  {
   "cell_type": "code",
   "execution_count": 26,
   "metadata": {
    "ExecuteTime": {
     "end_time": "2019-12-24T20:08:54.487495Z",
     "start_time": "2019-12-24T20:08:54.388493Z"
    },
    "scrolled": true
   },
   "outputs": [
    {
     "data": {
      "text/plain": [
       "<folium.map.LayerControl at 0x2478006b240>"
      ]
     },
     "execution_count": 26,
     "metadata": {},
     "output_type": "execute_result"
    }
   ],
   "source": [
    "# create a plain map of ex-Yugoslavia\n",
    "yugo_map = folium.Map(\n",
    "    location=[43.84864, 18.35644],\n",
    "    tiles='openstreetmap',\n",
    "    zoom_start=7\n",
    ")\n",
    "\n",
    "# generate choropleth map using the population growth of each country from 1990 to 2018\n",
    "folium.Choropleth(\n",
    "    geo_data=country_geo,\n",
    "    data=plot_data,\n",
    "    columns=['CountryCode','Population Growth (%)'],\n",
    "    key_on='feature.properties.sov_a3',\n",
    "    # fill_color='YlOrRd',\n",
    "    fill_color='Spectral',\n",
    "    bins=11,\n",
    "    fill_opacity=0.6,\n",
    "    line_opacity=0.5,\n",
    "    legend_name='Population Growth (%)'\n",
    ").add_to(yugo_map)\n",
    "\n",
    "folium.LayerControl().add_to(yugo_map)\n"
   ]
  },
  {
   "cell_type": "code",
   "execution_count": 27,
   "metadata": {
    "ExecuteTime": {
     "end_time": "2019-12-24T20:08:54.646799Z",
     "start_time": "2019-12-24T20:08:54.490494Z"
    }
   },
   "outputs": [],
   "source": [
    "# Create Folium plot\n",
    "yugo_map.save('./Figures/yugo_pop_growth.html')"
   ]
  },
  {
   "cell_type": "markdown",
   "metadata": {},
   "source": [
    "Negative population growth values mean population decline.\n",
    "\n",
    "In the next steps we will reserach data for Croatia (14.40 % population decline since 1990)."
   ]
  },
  {
   "cell_type": "code",
   "execution_count": 28,
   "metadata": {
    "ExecuteTime": {
     "end_time": "2019-12-24T20:08:54.661504Z",
     "start_time": "2019-12-24T20:08:54.652540Z"
    },
    "scrolled": false
   },
   "outputs": [
    {
     "data": {
      "text/html": [
       "\n",
       "        <iframe\n",
       "            width=\"900\"\n",
       "            height=\"800\"\n",
       "            src=\"./Figures/yugo_pop_growth.html\"\n",
       "            frameborder=\"0\"\n",
       "            allowfullscreen\n",
       "        ></iframe>\n",
       "        "
      ],
      "text/plain": [
       "<IPython.lib.display.IFrame at 0x2478017ecc0>"
      ]
     },
     "execution_count": 28,
     "metadata": {},
     "output_type": "execute_result"
    }
   ],
   "source": [
    "# Import the Folium interactive html file\n",
    "from IPython.display import IFrame\n",
    "IFrame(src='./Figures/yugo_pop_growth.html', width=900, height=800)"
   ]
  },
  {
   "cell_type": "markdown",
   "metadata": {},
   "source": [
    "### Plot \"Population, total\" for Bosnia and Herzegovina and Croatia (1990 - 2018)"
   ]
  },
  {
   "cell_type": "markdown",
   "metadata": {},
   "source": [
    "Let's plot \"Population, total\" for two countries with the highest population decline: **Bosnia and Herzegovina** (-25.53%) and **Croatia** (-14.40%)"
   ]
  },
  {
   "cell_type": "code",
   "execution_count": 29,
   "metadata": {
    "ExecuteTime": {
     "end_time": "2019-12-24T20:08:54.698520Z",
     "start_time": "2019-12-24T20:08:54.668511Z"
    }
   },
   "outputs": [
    {
     "data": {
      "text/html": [
       "<div>\n",
       "<style scoped>\n",
       "    .dataframe tbody tr th:only-of-type {\n",
       "        vertical-align: middle;\n",
       "    }\n",
       "\n",
       "    .dataframe tbody tr th {\n",
       "        vertical-align: top;\n",
       "    }\n",
       "\n",
       "    .dataframe thead th {\n",
       "        text-align: right;\n",
       "    }\n",
       "</style>\n",
       "<table border=\"1\" class=\"dataframe\">\n",
       "  <thead>\n",
       "    <tr style=\"text-align: right;\">\n",
       "      <th></th>\n",
       "      <th>CountryName</th>\n",
       "      <th>CountryCode</th>\n",
       "      <th>Year</th>\n",
       "      <th>PopulationTotal</th>\n",
       "    </tr>\n",
       "  </thead>\n",
       "  <tbody>\n",
       "    <tr>\n",
       "      <th>1505</th>\n",
       "      <td>Bosnia and Herzegovina</td>\n",
       "      <td>BIH</td>\n",
       "      <td>1990</td>\n",
       "      <td>4463423.0</td>\n",
       "    </tr>\n",
       "    <tr>\n",
       "      <th>1506</th>\n",
       "      <td>Bosnia and Herzegovina</td>\n",
       "      <td>BIH</td>\n",
       "      <td>1991</td>\n",
       "      <td>4369319.0</td>\n",
       "    </tr>\n",
       "  </tbody>\n",
       "</table>\n",
       "</div>"
      ],
      "text/plain": [
       "                 CountryName CountryCode  Year  PopulationTotal\n",
       "1505  Bosnia and Herzegovina         BIH  1990        4463423.0\n",
       "1506  Bosnia and Herzegovina         BIH  1991        4369319.0"
      ]
     },
     "execution_count": 29,
     "metadata": {},
     "output_type": "execute_result"
    }
   ],
   "source": [
    "pop_yugo90.head(2)"
   ]
  },
  {
   "cell_type": "code",
   "execution_count": 30,
   "metadata": {
    "ExecuteTime": {
     "end_time": "2019-12-24T20:08:54.742499Z",
     "start_time": "2019-12-24T20:08:54.701496Z"
    }
   },
   "outputs": [
    {
     "name": "stdout",
     "output_type": "stream",
     "text": [
      "['Bosnia and Herzegovina' 'Croatia']\n"
     ]
    },
    {
     "data": {
      "text/html": [
       "<div>\n",
       "<style scoped>\n",
       "    .dataframe tbody tr th:only-of-type {\n",
       "        vertical-align: middle;\n",
       "    }\n",
       "\n",
       "    .dataframe tbody tr th {\n",
       "        vertical-align: top;\n",
       "    }\n",
       "\n",
       "    .dataframe thead th {\n",
       "        text-align: right;\n",
       "    }\n",
       "</style>\n",
       "<table border=\"1\" class=\"dataframe\">\n",
       "  <thead>\n",
       "    <tr style=\"text-align: right;\">\n",
       "      <th></th>\n",
       "      <th>CountryName</th>\n",
       "      <th>Year</th>\n",
       "      <th>PopulationTotal</th>\n",
       "    </tr>\n",
       "  </thead>\n",
       "  <tbody>\n",
       "    <tr>\n",
       "      <th>1505</th>\n",
       "      <td>Bosnia and Herzegovina</td>\n",
       "      <td>1990</td>\n",
       "      <td>4463423.0</td>\n",
       "    </tr>\n",
       "    <tr>\n",
       "      <th>1506</th>\n",
       "      <td>Bosnia and Herzegovina</td>\n",
       "      <td>1991</td>\n",
       "      <td>4369319.0</td>\n",
       "    </tr>\n",
       "  </tbody>\n",
       "</table>\n",
       "</div>"
      ],
      "text/plain": [
       "                 CountryName  Year  PopulationTotal\n",
       "1505  Bosnia and Herzegovina  1990        4463423.0\n",
       "1506  Bosnia and Herzegovina  1991        4369319.0"
      ]
     },
     "execution_count": 30,
     "metadata": {},
     "output_type": "execute_result"
    }
   ],
   "source": [
    "# limit dataframe to Bosnia and Herzegovina and Croatia\n",
    "pop_bihc = pop_yugo90[pop_yugo90['CountryName'].isin(['Croatia','Bosnia and Herzegovina'])]\n",
    "# drop country code\n",
    "pop_bhc = pop_bihc.drop(['CountryCode'],axis=1)\n",
    "print(pop_bhc['CountryName'].unique())\n",
    "pop_bhc.head(2)"
   ]
  },
  {
   "cell_type": "code",
   "execution_count": 31,
   "metadata": {
    "ExecuteTime": {
     "end_time": "2019-12-24T20:08:54.771637Z",
     "start_time": "2019-12-24T20:08:54.743497Z"
    }
   },
   "outputs": [
    {
     "data": {
      "text/html": [
       "<div>\n",
       "<style scoped>\n",
       "    .dataframe tbody tr th:only-of-type {\n",
       "        vertical-align: middle;\n",
       "    }\n",
       "\n",
       "    .dataframe tbody tr th {\n",
       "        vertical-align: top;\n",
       "    }\n",
       "\n",
       "    .dataframe thead th {\n",
       "        text-align: right;\n",
       "    }\n",
       "</style>\n",
       "<table border=\"1\" class=\"dataframe\">\n",
       "  <thead>\n",
       "    <tr style=\"text-align: right;\">\n",
       "      <th>CountryName</th>\n",
       "      <th>Bosnia and Herzegovina</th>\n",
       "      <th>Croatia</th>\n",
       "    </tr>\n",
       "    <tr>\n",
       "      <th>Year</th>\n",
       "      <th></th>\n",
       "      <th></th>\n",
       "    </tr>\n",
       "  </thead>\n",
       "  <tbody>\n",
       "    <tr>\n",
       "      <th>1990</th>\n",
       "      <td>4463423.0</td>\n",
       "      <td>4777368.0</td>\n",
       "    </tr>\n",
       "    <tr>\n",
       "      <th>1991</th>\n",
       "      <td>4369319.0</td>\n",
       "      <td>4689022.0</td>\n",
       "    </tr>\n",
       "  </tbody>\n",
       "</table>\n",
       "</div>"
      ],
      "text/plain": [
       "CountryName  Bosnia and Herzegovina    Croatia\n",
       "Year                                          \n",
       "1990                      4463423.0  4777368.0\n",
       "1991                      4369319.0  4689022.0"
      ]
     },
     "execution_count": 31,
     "metadata": {},
     "output_type": "execute_result"
    }
   ],
   "source": [
    "# reshape/pivot dataframe\n",
    "pop_bhc = pop_bhc.pivot_table(values='PopulationTotal',columns=('CountryName'),index='Year')\n",
    "pop_bhc.head(2)"
   ]
  },
  {
   "cell_type": "code",
   "execution_count": 32,
   "metadata": {
    "ExecuteTime": {
     "end_time": "2019-12-24T20:08:54.789652Z",
     "start_time": "2019-12-24T20:08:54.773496Z"
    }
   },
   "outputs": [
    {
     "data": {
      "text/html": [
       "<div>\n",
       "<style scoped>\n",
       "    .dataframe tbody tr th:only-of-type {\n",
       "        vertical-align: middle;\n",
       "    }\n",
       "\n",
       "    .dataframe tbody tr th {\n",
       "        vertical-align: top;\n",
       "    }\n",
       "\n",
       "    .dataframe thead th {\n",
       "        text-align: right;\n",
       "    }\n",
       "</style>\n",
       "<table border=\"1\" class=\"dataframe\">\n",
       "  <thead>\n",
       "    <tr style=\"text-align: right;\">\n",
       "      <th></th>\n",
       "      <th>Year</th>\n",
       "      <th>Bosnia and Herzegovina</th>\n",
       "      <th>Croatia</th>\n",
       "    </tr>\n",
       "  </thead>\n",
       "  <tbody>\n",
       "    <tr>\n",
       "      <th>0</th>\n",
       "      <td>1990</td>\n",
       "      <td>4463423.0</td>\n",
       "      <td>4777368.0</td>\n",
       "    </tr>\n",
       "    <tr>\n",
       "      <th>1</th>\n",
       "      <td>1991</td>\n",
       "      <td>4369319.0</td>\n",
       "      <td>4689022.0</td>\n",
       "    </tr>\n",
       "  </tbody>\n",
       "</table>\n",
       "</div>"
      ],
      "text/plain": [
       "   Year  Bosnia and Herzegovina    Croatia\n",
       "0  1990               4463423.0  4777368.0\n",
       "1  1991               4369319.0  4689022.0"
      ]
     },
     "execution_count": 32,
     "metadata": {},
     "output_type": "execute_result"
    }
   ],
   "source": [
    "# Remove column name \"CountryName\"\n",
    "pop_bhc.columns.name = None\n",
    "# Insert index \"Year\" as column and reset index to default integer index\n",
    "pop_bhc.reset_index(inplace=True)\n",
    "pop_bhc.head(2)"
   ]
  },
  {
   "cell_type": "code",
   "execution_count": 33,
   "metadata": {
    "ExecuteTime": {
     "end_time": "2019-12-24T20:08:55.036495Z",
     "start_time": "2019-12-24T20:08:54.790517Z"
    },
    "scrolled": false
   },
   "outputs": [
    {
     "data": {
      "image/png": "[encoded data removed]",
      "text/plain": [
       "<Figure size 576x432 with 1 Axes>"
      ]
     },
     "metadata": {
      "needs_background": "light"
     },
     "output_type": "display_data"
    }
   ],
   "source": [
    "# plt.figure() # create figure\n",
    "\n",
    "ax = pop_bhc.plot(x='Year',kind='line',figsize=(8,6))\n",
    "ax.legend(shadow=True)\n",
    "\n",
    "ax.set_title ('Population total for Bosnia and Herzegovina\\nand Croatia (1990 - 2018)',fontsize=14)\n",
    "ax.set_ylabel(cols[6],fontsize=12)\n",
    "ax.set_xlabel('Year',fontsize=12)\n",
    "ax.set_ylim(3000000)\n",
    "\n",
    "ax.grid(True)\n",
    "\n",
    "# ensure that x-axis have integer-only tick labels\n",
    "# and increase number of ticks\n",
    "ax.xaxis.set_major_locator(tkr.MaxNLocator(integer=True))\n",
    "# reformat tick labels with million's M and comma separator\n",
    "ax.yaxis.set_major_formatter(tkr.FuncFormatter(lambda x, p: \"{:,.1f}M\".format(x*1e-6)))\n",
    "\n",
    "plt.show()\n",
    "#plt.savefig(\"./Figures/population_BIH_HRV.png\")"
   ]
  },
  {
   "cell_type": "markdown",
   "metadata": {},
   "source": [
    "* For both countries population declined during the war and after the Great Recession.\n",
    "\n",
    "* Slight population incline for Croatia around 1993 could be explained by immigration from Bosnia and Herzegovina\n",
    "\n",
    "* Population stabilized soon after the war for Bosnia and Herzegovina, and several years later for Croatia\n"
   ]
  },
  {
   "cell_type": "markdown",
   "metadata": {},
   "source": [
    "## Display \"Net migration\" for Croatia\n",
    "\n"
   ]
  },
  {
   "cell_type": "markdown",
   "metadata": {},
   "source": [
    "`\"Net migration\"` data for five countries is available from 1962 - 2017 in 5 years steps. No data for Kosovo, and some data is missing for Serbia."
   ]
  },
  {
   "cell_type": "code",
   "execution_count": 34,
   "metadata": {
    "ExecuteTime": {
     "end_time": "2019-12-24T20:08:55.052522Z",
     "start_time": "2019-12-24T20:08:55.037530Z"
    },
    "scrolled": true
   },
   "outputs": [
    {
     "data": {
      "text/html": [
       "<div>\n",
       "<style scoped>\n",
       "    .dataframe tbody tr th:only-of-type {\n",
       "        vertical-align: middle;\n",
       "    }\n",
       "\n",
       "    .dataframe tbody tr th {\n",
       "        vertical-align: top;\n",
       "    }\n",
       "\n",
       "    .dataframe thead th {\n",
       "        text-align: right;\n",
       "    }\n",
       "</style>\n",
       "<table border=\"1\" class=\"dataframe\">\n",
       "  <thead>\n",
       "    <tr style=\"text-align: right;\">\n",
       "      <th></th>\n",
       "      <th>CountryName</th>\n",
       "      <th>Year</th>\n",
       "      <th>NetMigration</th>\n",
       "    </tr>\n",
       "  </thead>\n",
       "  <tbody>\n",
       "    <tr>\n",
       "      <th>1475</th>\n",
       "      <td>Bosnia and Herzegovina</td>\n",
       "      <td>1960</td>\n",
       "      <td>NaN</td>\n",
       "    </tr>\n",
       "    <tr>\n",
       "      <th>1476</th>\n",
       "      <td>Bosnia and Herzegovina</td>\n",
       "      <td>1961</td>\n",
       "      <td>NaN</td>\n",
       "    </tr>\n",
       "    <tr>\n",
       "      <th>1477</th>\n",
       "      <td>Bosnia and Herzegovina</td>\n",
       "      <td>1962</td>\n",
       "      <td>-50002.0</td>\n",
       "    </tr>\n",
       "    <tr>\n",
       "      <th>1478</th>\n",
       "      <td>Bosnia and Herzegovina</td>\n",
       "      <td>1963</td>\n",
       "      <td>NaN</td>\n",
       "    </tr>\n",
       "    <tr>\n",
       "      <th>1479</th>\n",
       "      <td>Bosnia and Herzegovina</td>\n",
       "      <td>1964</td>\n",
       "      <td>NaN</td>\n",
       "    </tr>\n",
       "  </tbody>\n",
       "</table>\n",
       "</div>"
      ],
      "text/plain": [
       "                 CountryName  Year  NetMigration\n",
       "1475  Bosnia and Herzegovina  1960           NaN\n",
       "1476  Bosnia and Herzegovina  1961           NaN\n",
       "1477  Bosnia and Herzegovina  1962      -50002.0\n",
       "1478  Bosnia and Herzegovina  1963           NaN\n",
       "1479  Bosnia and Herzegovina  1964           NaN"
      ]
     },
     "execution_count": 34,
     "metadata": {},
     "output_type": "execute_result"
    }
   ],
   "source": [
    "# migration dataframe for ex-Yugoslavia countries\n",
    "migr_yugo = yugo.drop(['CountryCode','GDP','GDPperCapita','PopulationTotal'],axis=1)\n",
    "migr_yugo.head()"
   ]
  },
  {
   "cell_type": "markdown",
   "metadata": {},
   "source": [
    "**Transform the dataframe**"
   ]
  },
  {
   "cell_type": "code",
   "execution_count": 35,
   "metadata": {
    "ExecuteTime": {
     "end_time": "2019-12-24T20:08:55.068498Z",
     "start_time": "2019-12-24T20:08:55.053495Z"
    }
   },
   "outputs": [
    {
     "data": {
      "text/html": [
       "<div>\n",
       "<style scoped>\n",
       "    .dataframe tbody tr th:only-of-type {\n",
       "        vertical-align: middle;\n",
       "    }\n",
       "\n",
       "    .dataframe tbody tr th {\n",
       "        vertical-align: top;\n",
       "    }\n",
       "\n",
       "    .dataframe thead th {\n",
       "        text-align: right;\n",
       "    }\n",
       "</style>\n",
       "<table border=\"1\" class=\"dataframe\">\n",
       "  <thead>\n",
       "    <tr style=\"text-align: right;\">\n",
       "      <th></th>\n",
       "      <th>Country</th>\n",
       "      <th>Year</th>\n",
       "      <th>NetMigration</th>\n",
       "    </tr>\n",
       "  </thead>\n",
       "  <tbody>\n",
       "    <tr>\n",
       "      <th>1475</th>\n",
       "      <td>Bosnia and Herzegovina</td>\n",
       "      <td>1960</td>\n",
       "      <td>NaN</td>\n",
       "    </tr>\n",
       "    <tr>\n",
       "      <th>1476</th>\n",
       "      <td>Bosnia and Herzegovina</td>\n",
       "      <td>1961</td>\n",
       "      <td>NaN</td>\n",
       "    </tr>\n",
       "  </tbody>\n",
       "</table>\n",
       "</div>"
      ],
      "text/plain": [
       "                     Country  Year  NetMigration\n",
       "1475  Bosnia and Herzegovina  1960           NaN\n",
       "1476  Bosnia and Herzegovina  1961           NaN"
      ]
     },
     "execution_count": 35,
     "metadata": {},
     "output_type": "execute_result"
    }
   ],
   "source": [
    "migr_yugo.rename(columns={'CountryName':'Country'}, inplace=True)\n",
    "migr_yugo.head(2)"
   ]
  },
  {
   "cell_type": "code",
   "execution_count": 36,
   "metadata": {
    "ExecuteTime": {
     "end_time": "2019-12-24T20:08:55.094530Z",
     "start_time": "2019-12-24T20:08:55.070497Z"
    }
   },
   "outputs": [
    {
     "data": {
      "text/html": [
       "<div>\n",
       "<style scoped>\n",
       "    .dataframe tbody tr th:only-of-type {\n",
       "        vertical-align: middle;\n",
       "    }\n",
       "\n",
       "    .dataframe tbody tr th {\n",
       "        vertical-align: top;\n",
       "    }\n",
       "\n",
       "    .dataframe thead th {\n",
       "        text-align: right;\n",
       "    }\n",
       "</style>\n",
       "<table border=\"1\" class=\"dataframe\">\n",
       "  <thead>\n",
       "    <tr style=\"text-align: right;\">\n",
       "      <th>Country</th>\n",
       "      <th>Bosnia and Herzegovina</th>\n",
       "      <th>Croatia</th>\n",
       "      <th>Montenegro</th>\n",
       "      <th>North Macedonia</th>\n",
       "      <th>Serbia</th>\n",
       "      <th>Slovenia</th>\n",
       "    </tr>\n",
       "    <tr>\n",
       "      <th>Year</th>\n",
       "      <th></th>\n",
       "      <th></th>\n",
       "      <th></th>\n",
       "      <th></th>\n",
       "      <th></th>\n",
       "      <th></th>\n",
       "    </tr>\n",
       "  </thead>\n",
       "  <tbody>\n",
       "    <tr>\n",
       "      <th>1962</th>\n",
       "      <td>-50002.0</td>\n",
       "      <td>1854.0</td>\n",
       "      <td>-2001.0</td>\n",
       "      <td>-40940.0</td>\n",
       "      <td>NaN</td>\n",
       "      <td>-22059.0</td>\n",
       "    </tr>\n",
       "    <tr>\n",
       "      <th>1967</th>\n",
       "      <td>-96958.0</td>\n",
       "      <td>-1225.0</td>\n",
       "      <td>-53773.0</td>\n",
       "      <td>-28981.0</td>\n",
       "      <td>NaN</td>\n",
       "      <td>-14950.0</td>\n",
       "    </tr>\n",
       "  </tbody>\n",
       "</table>\n",
       "</div>"
      ],
      "text/plain": [
       "Country  Bosnia and Herzegovina  Croatia  Montenegro  North Macedonia  Serbia  \\\n",
       "Year                                                                            \n",
       "1962                   -50002.0   1854.0     -2001.0         -40940.0     NaN   \n",
       "1967                   -96958.0  -1225.0    -53773.0         -28981.0     NaN   \n",
       "\n",
       "Country  Slovenia  \n",
       "Year               \n",
       "1962     -22059.0  \n",
       "1967     -14950.0  "
      ]
     },
     "execution_count": 36,
     "metadata": {},
     "output_type": "execute_result"
    }
   ],
   "source": [
    "# reshape/pivot dataframe\n",
    "migr_y = migr_yugo.pivot_table(values='NetMigration',columns='Country',index='Year')\n",
    "migr_y.head(2)"
   ]
  },
  {
   "cell_type": "markdown",
   "metadata": {},
   "source": [
    "**Plot net migration for all ex-Yugoslavia countries**"
   ]
  },
  {
   "cell_type": "code",
   "execution_count": 37,
   "metadata": {
    "ExecuteTime": {
     "end_time": "2019-12-24T20:08:55.398494Z",
     "start_time": "2019-12-24T20:08:55.096494Z"
    },
    "scrolled": false
   },
   "outputs": [
    {
     "data": {
      "image/png": "[encoded data removed]",
      "text/plain": [
       "<Figure size 648x432 with 1 Axes>"
      ]
     },
     "metadata": {
      "needs_background": "light"
     },
     "output_type": "display_data"
    }
   ],
   "source": [
    "ax = migr_y.plot(kind='bar', stacked=True, figsize=(9, 6), colormap='Paired')\n",
    "ax.legend(shadow=True)\n",
    "\n",
    "ax.set_title ('Net Migration for ex-Yugoslavia Countries (1962 - 2017)',fontsize=14)\n",
    "ax.set_ylabel('Number of People',fontsize=12)\n",
    "ax.set_xlabel('Year',fontsize=12)\n",
    "ax.xaxis.set_tick_params(rotation=0)\n",
    "ax.yaxis.grid(True)\n",
    "\n",
    "# reformat tick labels with thousand's K and comma separator\n",
    "ax.yaxis.set_major_formatter(tkr.FuncFormatter(lambda x, p: \"{:,.0f}K\".format(x*1e-3)))\n",
    "\n",
    "plt.show()\n",
    "#plt.savefig(\"./Figures/migration_bars_all.png\")"
   ]
  },
  {
   "cell_type": "markdown",
   "metadata": {},
   "source": [
    "* During the war the highest emigration was from Bosnia and Herzegovina. Much less from Croatia and North Macedonia.\n",
    "\n",
    "* During the same period we see high immigration to Serbia.\n",
    "\n",
    "* After the war the highest emigration was from Serbia. People were still emigrating from Croatia and Bosnia and Herzegovina.\n",
    "\n",
    "* The Great Recession mostly impacted Bosnia and Herzegovina and Croatia. Emigration was slowing down for Bosnia and Herzegovina but still slightly increasing for Croatia."
   ]
  },
  {
   "cell_type": "markdown",
   "metadata": {},
   "source": [
    "Let's now concentrate on Croatia only."
   ]
  },
  {
   "cell_type": "markdown",
   "metadata": {},
   "source": [
    "**Plot Net Migration for Croatia**"
   ]
  },
  {
   "cell_type": "code",
   "execution_count": 38,
   "metadata": {
    "ExecuteTime": {
     "end_time": "2019-12-24T20:08:55.536493Z",
     "start_time": "2019-12-24T20:08:55.399507Z"
    }
   },
   "outputs": [
    {
     "data": {
      "image/png": "[encoded data removed]",
      "text/plain": [
       "<Figure size 648x432 with 1 Axes>"
      ]
     },
     "metadata": {
      "needs_background": "light"
     },
     "output_type": "display_data"
    }
   ],
   "source": [
    "ax = migr_y['Croatia'].plot(kind='bar', figsize=(9, 6),color='#b2df8a')\n",
    "\n",
    "ax.set_title ('Net Migration for Croatia (1962 - 2017)',fontsize=14)\n",
    "ax.set_ylabel('Number of People',fontsize=12)\n",
    "ax.set_xlabel('Year',fontsize=12)\n",
    "ax.xaxis.set_tick_params(rotation=0)\n",
    "ax.yaxis.grid(True)\n",
    "\n",
    "# reformat tick labels with thousand's K and comma separator\n",
    "ax.yaxis.set_major_formatter(tkr.FuncFormatter(lambda x, p: \"{:,.0f}K\".format(x*1e-3)))\n",
    "\n",
    "plt.show()\n",
    "#plt.savefig(\"./Figures/migration_bars_HRV.png\")"
   ]
  },
  {
   "cell_type": "code",
   "execution_count": 39,
   "metadata": {
    "ExecuteTime": {
     "end_time": "2019-12-24T20:08:55.555494Z",
     "start_time": "2019-12-24T20:08:55.537522Z"
    }
   },
   "outputs": [
    {
     "data": {
      "text/html": [
       "<div>\n",
       "<style scoped>\n",
       "    .dataframe tbody tr th:only-of-type {\n",
       "        vertical-align: middle;\n",
       "    }\n",
       "\n",
       "    .dataframe tbody tr th {\n",
       "        vertical-align: top;\n",
       "    }\n",
       "\n",
       "    .dataframe thead th {\n",
       "        text-align: right;\n",
       "    }\n",
       "</style>\n",
       "<table border=\"1\" class=\"dataframe\">\n",
       "  <thead>\n",
       "    <tr style=\"text-align: right;\">\n",
       "      <th>Year</th>\n",
       "      <th>1962</th>\n",
       "      <th>1967</th>\n",
       "      <th>1972</th>\n",
       "      <th>1977</th>\n",
       "      <th>1982</th>\n",
       "      <th>1987</th>\n",
       "      <th>1992</th>\n",
       "      <th>1997</th>\n",
       "      <th>2002</th>\n",
       "      <th>2007</th>\n",
       "      <th>2012</th>\n",
       "      <th>2017</th>\n",
       "    </tr>\n",
       "  </thead>\n",
       "  <tbody>\n",
       "    <tr>\n",
       "      <th>Croatia</th>\n",
       "      <td>1854.0</td>\n",
       "      <td>-1225.0</td>\n",
       "      <td>-18403.0</td>\n",
       "      <td>18681.0</td>\n",
       "      <td>54369.0</td>\n",
       "      <td>26145.0</td>\n",
       "      <td>-143579.0</td>\n",
       "      <td>-188129.0</td>\n",
       "      <td>-2580.0</td>\n",
       "      <td>-10499.0</td>\n",
       "      <td>-38493.0</td>\n",
       "      <td>-40004.0</td>\n",
       "    </tr>\n",
       "  </tbody>\n",
       "</table>\n",
       "</div>"
      ],
      "text/plain": [
       "Year       1962    1967     1972     1977     1982     1987      1992  \\\n",
       "Croatia  1854.0 -1225.0 -18403.0  18681.0  54369.0  26145.0 -143579.0   \n",
       "\n",
       "Year         1997    2002     2007     2012     2017  \n",
       "Croatia -188129.0 -2580.0 -10499.0 -38493.0 -40004.0  "
      ]
     },
     "execution_count": 39,
     "metadata": {},
     "output_type": "execute_result"
    }
   ],
   "source": [
    "pd.DataFrame(migr_y['Croatia']).T"
   ]
  },
  {
   "cell_type": "markdown",
   "metadata": {},
   "source": [
    "* Negative values are **emigration** and positive values are **immigration**. \n",
    "\n",
    "* Emigration was high at 90's, during and after the Yugoslav wars. \n",
    "\n",
    "* There was a smaller, but still significant, increase in emigration after the Great Recession (2008). \n",
    "\n",
    "* The same trend continues in the next step after 2012. That coincides with Croatia joining EU in 2013.\n"
   ]
  },
  {
   "cell_type": "markdown",
   "metadata": {},
   "source": [
    "## GDP - Population Relationship for Croatia (1995 - 2018)\n"
   ]
  },
  {
   "cell_type": "markdown",
   "metadata": {},
   "source": [
    "GDP data for Croatia exist only from 1995. Because of that, we will limit population data to the same period."
   ]
  },
  {
   "cell_type": "markdown",
   "metadata": {},
   "source": [
    "### Prepare GDP dataframes for Croatia"
   ]
  },
  {
   "cell_type": "code",
   "execution_count": 40,
   "metadata": {
    "ExecuteTime": {
     "end_time": "2019-12-24T20:08:55.575493Z",
     "start_time": "2019-12-24T20:08:55.556496Z"
    }
   },
   "outputs": [
    {
     "data": {
      "text/html": [
       "<div>\n",
       "<style scoped>\n",
       "    .dataframe tbody tr th:only-of-type {\n",
       "        vertical-align: middle;\n",
       "    }\n",
       "\n",
       "    .dataframe tbody tr th {\n",
       "        vertical-align: top;\n",
       "    }\n",
       "\n",
       "    .dataframe thead th {\n",
       "        text-align: right;\n",
       "    }\n",
       "</style>\n",
       "<table border=\"1\" class=\"dataframe\">\n",
       "  <thead>\n",
       "    <tr style=\"text-align: right;\">\n",
       "      <th></th>\n",
       "      <th>CountryName</th>\n",
       "      <th>CountryCode</th>\n",
       "      <th>Year</th>\n",
       "      <th>GDP</th>\n",
       "    </tr>\n",
       "  </thead>\n",
       "  <tbody>\n",
       "    <tr>\n",
       "      <th>3044</th>\n",
       "      <td>Croatia</td>\n",
       "      <td>HRV</td>\n",
       "      <td>1995</td>\n",
       "      <td>3.956151e+10</td>\n",
       "    </tr>\n",
       "    <tr>\n",
       "      <th>3045</th>\n",
       "      <td>Croatia</td>\n",
       "      <td>HRV</td>\n",
       "      <td>1996</td>\n",
       "      <td>4.188524e+10</td>\n",
       "    </tr>\n",
       "  </tbody>\n",
       "</table>\n",
       "</div>"
      ],
      "text/plain": [
       "     CountryName CountryCode  Year           GDP\n",
       "3044     Croatia         HRV  1995  3.956151e+10\n",
       "3045     Croatia         HRV  1996  4.188524e+10"
      ]
     },
     "execution_count": 40,
     "metadata": {},
     "output_type": "execute_result"
    }
   ],
   "source": [
    "# dataframe for Croatia\n",
    "cro = yugo[yugo['CountryName'].isin(['Croatia'])]\n",
    "# drop not needed columns\n",
    "gdp_cro = cro.drop(['GDPperCapita','NetMigration','PopulationTotal'],axis=1)\n",
    "# remove NaNs for GDP\n",
    "gdp_cro = gdp_cro.dropna()\n",
    "gdp_cro.head(2)"
   ]
  },
  {
   "cell_type": "code",
   "execution_count": 41,
   "metadata": {
    "ExecuteTime": {
     "end_time": "2019-12-24T20:08:55.591493Z",
     "start_time": "2019-12-24T20:08:55.576493Z"
    }
   },
   "outputs": [
    {
     "data": {
      "text/html": [
       "<div>\n",
       "<style scoped>\n",
       "    .dataframe tbody tr th:only-of-type {\n",
       "        vertical-align: middle;\n",
       "    }\n",
       "\n",
       "    .dataframe tbody tr th {\n",
       "        vertical-align: top;\n",
       "    }\n",
       "\n",
       "    .dataframe thead th {\n",
       "        text-align: right;\n",
       "    }\n",
       "</style>\n",
       "<table border=\"1\" class=\"dataframe\">\n",
       "  <thead>\n",
       "    <tr style=\"text-align: right;\">\n",
       "      <th></th>\n",
       "      <th>GDP</th>\n",
       "    </tr>\n",
       "    <tr>\n",
       "      <th>Year</th>\n",
       "      <th></th>\n",
       "    </tr>\n",
       "  </thead>\n",
       "  <tbody>\n",
       "    <tr>\n",
       "      <th>1995</th>\n",
       "      <td>3.956151e+10</td>\n",
       "    </tr>\n",
       "    <tr>\n",
       "      <th>1996</th>\n",
       "      <td>4.188524e+10</td>\n",
       "    </tr>\n",
       "  </tbody>\n",
       "</table>\n",
       "</div>"
      ],
      "text/plain": [
       "               GDP\n",
       "Year              \n",
       "1995  3.956151e+10\n",
       "1996  4.188524e+10"
      ]
     },
     "execution_count": 41,
     "metadata": {},
     "output_type": "execute_result"
    }
   ],
   "source": [
    "# transform dataframe \n",
    "gdp_c = gdp_cro.set_index(['Year']).drop(['CountryName','CountryCode'],axis=1)\n",
    "gdp_c.head(2)"
   ]
  },
  {
   "cell_type": "markdown",
   "metadata": {},
   "source": [
    "### Prepare \"Population, total\" dataframes for Croatia"
   ]
  },
  {
   "cell_type": "code",
   "execution_count": 42,
   "metadata": {
    "ExecuteTime": {
     "end_time": "2019-12-24T20:08:55.608533Z",
     "start_time": "2019-12-24T20:08:55.592494Z"
    }
   },
   "outputs": [
    {
     "data": {
      "text/html": [
       "<div>\n",
       "<style scoped>\n",
       "    .dataframe tbody tr th:only-of-type {\n",
       "        vertical-align: middle;\n",
       "    }\n",
       "\n",
       "    .dataframe tbody tr th {\n",
       "        vertical-align: top;\n",
       "    }\n",
       "\n",
       "    .dataframe thead th {\n",
       "        text-align: right;\n",
       "    }\n",
       "</style>\n",
       "<table border=\"1\" class=\"dataframe\">\n",
       "  <thead>\n",
       "    <tr style=\"text-align: right;\">\n",
       "      <th></th>\n",
       "      <th>CountryName</th>\n",
       "      <th>CountryCode</th>\n",
       "      <th>Year</th>\n",
       "      <th>PopulationTotal</th>\n",
       "    </tr>\n",
       "  </thead>\n",
       "  <tbody>\n",
       "    <tr>\n",
       "      <th>3044</th>\n",
       "      <td>Croatia</td>\n",
       "      <td>HRV</td>\n",
       "      <td>1995</td>\n",
       "      <td>4620030.0</td>\n",
       "    </tr>\n",
       "    <tr>\n",
       "      <th>3045</th>\n",
       "      <td>Croatia</td>\n",
       "      <td>HRV</td>\n",
       "      <td>1996</td>\n",
       "      <td>4557097.0</td>\n",
       "    </tr>\n",
       "  </tbody>\n",
       "</table>\n",
       "</div>"
      ],
      "text/plain": [
       "     CountryName CountryCode  Year  PopulationTotal\n",
       "3044     Croatia         HRV  1995        4620030.0\n",
       "3045     Croatia         HRV  1996        4557097.0"
      ]
     },
     "execution_count": 42,
     "metadata": {},
     "output_type": "execute_result"
    }
   ],
   "source": [
    "# drop not needed columns\n",
    "pop_cro = cro.drop(['NetMigration','GDP','GDPperCapita'],axis=1)\n",
    "# keep only data starting with 1995\n",
    "pop_cro = pop_cro[pop_cro['Year'] > 1994]\n",
    "pop_cro.head(2)"
   ]
  },
  {
   "cell_type": "code",
   "execution_count": 43,
   "metadata": {
    "ExecuteTime": {
     "end_time": "2019-12-24T20:08:55.625523Z",
     "start_time": "2019-12-24T20:08:55.609496Z"
    },
    "scrolled": true
   },
   "outputs": [
    {
     "data": {
      "text/html": [
       "<div>\n",
       "<style scoped>\n",
       "    .dataframe tbody tr th:only-of-type {\n",
       "        vertical-align: middle;\n",
       "    }\n",
       "\n",
       "    .dataframe tbody tr th {\n",
       "        vertical-align: top;\n",
       "    }\n",
       "\n",
       "    .dataframe thead th {\n",
       "        text-align: right;\n",
       "    }\n",
       "</style>\n",
       "<table border=\"1\" class=\"dataframe\">\n",
       "  <thead>\n",
       "    <tr style=\"text-align: right;\">\n",
       "      <th></th>\n",
       "      <th>Population</th>\n",
       "    </tr>\n",
       "    <tr>\n",
       "      <th>Year</th>\n",
       "      <th></th>\n",
       "    </tr>\n",
       "  </thead>\n",
       "  <tbody>\n",
       "    <tr>\n",
       "      <th>1995</th>\n",
       "      <td>4620030.0</td>\n",
       "    </tr>\n",
       "    <tr>\n",
       "      <th>1996</th>\n",
       "      <td>4557097.0</td>\n",
       "    </tr>\n",
       "  </tbody>\n",
       "</table>\n",
       "</div>"
      ],
      "text/plain": [
       "      Population\n",
       "Year            \n",
       "1995   4620030.0\n",
       "1996   4557097.0"
      ]
     },
     "execution_count": 43,
     "metadata": {},
     "output_type": "execute_result"
    }
   ],
   "source": [
    "# transform dataframe \n",
    "pop_c = pop_cro.set_index(['Year']).drop(['CountryCode','CountryName'],axis=1)\n",
    "# rename 'PopulationTotal' column\n",
    "pop_c.columns = ['Population']\n",
    "pop_c.head(2)"
   ]
  },
  {
   "cell_type": "markdown",
   "metadata": {},
   "source": [
    "### Plot \"Population, total\" for Croatia (1995 - 2018)"
   ]
  },
  {
   "cell_type": "code",
   "execution_count": 44,
   "metadata": {
    "ExecuteTime": {
     "end_time": "2019-12-24T20:08:55.745494Z",
     "start_time": "2019-12-24T20:08:55.626524Z"
    },
    "scrolled": false
   },
   "outputs": [
    {
     "data": {
      "image/png": "[encoded data removed]",
      "text/plain": [
       "<Figure size 576x432 with 1 Axes>"
      ]
     },
     "metadata": {
      "needs_background": "light"
     },
     "output_type": "display_data"
    }
   ],
   "source": [
    "# plt.figure() # create figure\n",
    "\n",
    "ax = pop_c.plot(kind='line', figsize=(8, 6), legend=False)\n",
    "\n",
    "ax.set_title ('Population total for Croatia (1995 - 2018)',fontsize=14)\n",
    "ax.set_ylabel(cols[6],fontsize=12)\n",
    "ax.set_xlabel('Year',fontsize=12)\n",
    "ax.grid(True)\n",
    "\n",
    "# ensure that x-axis have integer-only tick labels\n",
    "# and increase number of ticks\n",
    "ax.xaxis.set_major_locator(tkr.MaxNLocator(integer=True))\n",
    "# reformat tick labels with million's M and comma separator\n",
    "ax.yaxis.set_major_formatter(tkr.FuncFormatter(lambda x, p: \"{:,.1f}M\".format(x*1e-6)))\n",
    "\n",
    "plt.show()\n",
    "#plt.savefig(\"./Figures/population_line.png\")"
   ]
  },
  {
   "cell_type": "markdown",
   "metadata": {},
   "source": [
    "### Plot GDP for Croatia (1995 - 2018)"
   ]
  },
  {
   "cell_type": "code",
   "execution_count": 45,
   "metadata": {
    "ExecuteTime": {
     "end_time": "2019-12-24T20:08:55.859494Z",
     "start_time": "2019-12-24T20:08:55.746493Z"
    },
    "scrolled": false
   },
   "outputs": [
    {
     "data": {
      "image/png": "[encoded data removed]",
      "text/plain": [
       "<Figure size 576x432 with 1 Axes>"
      ]
     },
     "metadata": {
      "needs_background": "light"
     },
     "output_type": "display_data"
    }
   ],
   "source": [
    "# plt.figure() # create figure\n",
    "\n",
    "ax = gdp_c.plot(kind='line', figsize=(8, 6), legend=False)\n",
    "\n",
    "ax.set_title ('GDP - Croatia (1995 - 2018)',fontsize=14)\n",
    "ax.set_ylabel(cols[3],fontsize=12)\n",
    "ax.set_xlabel('Year',fontsize=12)\n",
    "ax.grid(True)\n",
    "\n",
    "# ensure that x-axis have integer-only tick labels\n",
    "# and increase number of ticks\n",
    "ax.xaxis.set_major_locator(tkr.MaxNLocator(integer=True))\n",
    "# reformat tick labels with thousand's K and comma separator\n",
    "ax.yaxis.set_major_formatter(tkr.FuncFormatter(lambda x, p: \"{:,.0f}B\".format(x*1e-9)))\n",
    "\n",
    "plt.show()\n",
    "#plt.savefig(\"./Figures/GDP_line.png\")"
   ]
  },
  {
   "cell_type": "markdown",
   "metadata": {},
   "source": [
    "**Let's put these two plots together.**"
   ]
  },
  {
   "cell_type": "markdown",
   "metadata": {},
   "source": [
    "### Plot \"Population, total\" and GDP for Croatia (1995 - 2018)"
   ]
  },
  {
   "cell_type": "code",
   "execution_count": 46,
   "metadata": {
    "ExecuteTime": {
     "end_time": "2019-12-24T20:08:56.043493Z",
     "start_time": "2019-12-24T20:08:55.860531Z"
    },
    "scrolled": false
   },
   "outputs": [
    {
     "data": {
      "image/png": "[encoded data removed]",
      "text/plain": [
       "<Figure size 576x432 with 2 Axes>"
      ]
     },
     "metadata": {
      "needs_background": "light"
     },
     "output_type": "display_data"
    }
   ],
   "source": [
    "# plot with 2 y-axes\n",
    "fig = plt.figure(figsize=(8,6))\n",
    "ax = fig.add_subplot(111)\n",
    "ax.set_title ('Population, total & GDP - Croatia (1995 - 2018)', fontsize=13)\n",
    "\n",
    "y1_label = cols[6]\n",
    "y2_label = cols[3]\n",
    "\n",
    "ax.plot('Year', 'PopulationTotal','-b',data=pop_cro, label = y1_label)\n",
    "\n",
    "ax2 = ax.twinx()\n",
    "ax2.plot('Year', 'GDP', '-r', data=gdp_cro, label=y2_label)\n",
    "fig.legend(loc=8, bbox_to_anchor=(0.5, 0.132), fontsize=12, shadow=True)\n",
    "\n",
    "ax.grid(True)\n",
    "ax.set_xlabel('Year', fontsize=12)\n",
    "\n",
    "# Make the y-axis label, ticks and tick labels match the line color.\n",
    "ax.set_ylabel(y1_label, color='b', fontsize=12)\n",
    "ax.tick_params('y', colors='b')\n",
    "ax2.set_ylabel(y2_label, color='r', fontsize=12)\n",
    "ax2.tick_params('y', colors='r')\n",
    "\n",
    "# ensure that x-axis have integer-only tick labels\n",
    "# and increase number of ticks\n",
    "ax.xaxis.set_major_locator(tkr.MaxNLocator(integer=True))\n",
    "\n",
    "# reformat tick labels with million's M and comma separator\n",
    "ax.yaxis.set_major_formatter(tkr.FuncFormatter(lambda x, p: \"{:,.1f}M\".format(x*1e-6)))\n",
    "# reformat tick labels with billion's B and comma separator\n",
    "ax2.yaxis.set_major_formatter(tkr.FuncFormatter(lambda x, p: \"{:,.0f}B\".format(x*1e-9)))\n",
    "\n",
    "plt.show()\n",
    "#fig.savefig(\"./Figures/population_GDP_line.png\")"
   ]
  },
  {
   "cell_type": "markdown",
   "metadata": {},
   "source": [
    "- The Yugoslav wars heavily impacted population of Croatia for almost a decade\n",
    "- The Great Recession had a smaller but still significant negative impact to both, GDP and population, that lasted for many years\n",
    "- Croatia joined the EU in 2013 and GDP started increasing a year after that. At the same time population is declining even faster than before. This is probably due to freedom of movement and residence of persons in the EU.\n"
   ]
  },
  {
   "cell_type": "markdown",
   "metadata": {},
   "source": [
    "Let's now check relationship between GDP and population decline."
   ]
  },
  {
   "cell_type": "markdown",
   "metadata": {},
   "source": [
    "### Plot and calculate correlation between GDP and total population (1995 - 2018)"
   ]
  },
  {
   "cell_type": "code",
   "execution_count": 47,
   "metadata": {
    "ExecuteTime": {
     "end_time": "2019-12-24T20:08:56.204531Z",
     "start_time": "2019-12-24T20:08:56.044494Z"
    },
    "scrolled": false
   },
   "outputs": [
    {
     "data": {
      "image/png": "[encoded data removed]",
      "text/plain": [
       "<Figure size 432x288 with 1 Axes>"
      ]
     },
     "metadata": {
      "needs_background": "light"
     },
     "output_type": "display_data"
    }
   ],
   "source": [
    "# scatter plot \n",
    "fig, ax = plt.subplots()\n",
    "\n",
    "# Grid lines, Xticks, Xlabel, Ylabel\n",
    "ax.yaxis.grid(True)\n",
    "ax.set_title('Population, total vs. GDP',fontsize=12)\n",
    "ax.set_xlabel(cols[3],fontsize=11)\n",
    "ax.set_ylabel(cols[6],fontsize=11)\n",
    "ax.grid(True)\n",
    "\n",
    "# reformat tick labels with million's M and comma separator\n",
    "ax.yaxis.set_major_formatter(tkr.FuncFormatter(lambda x, p: \"{:,.1f}M\".format(x*1e-6)))\n",
    "# reformat tick labels with billion's B and comma separator\n",
    "ax.xaxis.set_major_formatter(tkr.FuncFormatter(lambda x, p: \"{:,.0f}B\".format(x*1e-9)))\n",
    "\n",
    "X = gdp_cro['GDP']\n",
    "Y = pop_cro['PopulationTotal']\n",
    "ax.scatter(X, Y)\n",
    "\n",
    "z = np.polyfit(X, Y, 1)\n",
    "p = np.poly1d(z)\n",
    "ax.plot(X, p(X),'-r')\n",
    "\n",
    "plt.show()\n",
    "#plt.savefig(\"./Figures/population_GDP_scatter.png\")"
   ]
  },
  {
   "cell_type": "code",
   "execution_count": 48,
   "metadata": {
    "ExecuteTime": {
     "end_time": "2019-12-24T20:08:56.220494Z",
     "start_time": "2019-12-24T20:08:56.205493Z"
    }
   },
   "outputs": [
    {
     "data": {
      "text/html": [
       "<div>\n",
       "<style scoped>\n",
       "    .dataframe tbody tr th:only-of-type {\n",
       "        vertical-align: middle;\n",
       "    }\n",
       "\n",
       "    .dataframe tbody tr th {\n",
       "        vertical-align: top;\n",
       "    }\n",
       "\n",
       "    .dataframe thead th {\n",
       "        text-align: right;\n",
       "    }\n",
       "</style>\n",
       "<table border=\"1\" class=\"dataframe\">\n",
       "  <thead>\n",
       "    <tr style=\"text-align: right;\">\n",
       "      <th></th>\n",
       "      <th>Population</th>\n",
       "      <th>GDP</th>\n",
       "    </tr>\n",
       "    <tr>\n",
       "      <th>Year</th>\n",
       "      <th></th>\n",
       "      <th></th>\n",
       "    </tr>\n",
       "  </thead>\n",
       "  <tbody>\n",
       "    <tr>\n",
       "      <th>1995</th>\n",
       "      <td>4620030.0</td>\n",
       "      <td>3.956151e+10</td>\n",
       "    </tr>\n",
       "    <tr>\n",
       "      <th>1996</th>\n",
       "      <td>4557097.0</td>\n",
       "      <td>4.188524e+10</td>\n",
       "    </tr>\n",
       "  </tbody>\n",
       "</table>\n",
       "</div>"
      ],
      "text/plain": [
       "      Population           GDP\n",
       "Year                          \n",
       "1995   4620030.0  3.956151e+10\n",
       "1996   4557097.0  4.188524e+10"
      ]
     },
     "execution_count": 48,
     "metadata": {},
     "output_type": "execute_result"
    }
   ],
   "source": [
    "pop_c.join(gdp_c).head(2)"
   ]
  },
  {
   "cell_type": "code",
   "execution_count": 49,
   "metadata": {
    "ExecuteTime": {
     "end_time": "2019-12-24T20:08:56.236532Z",
     "start_time": "2019-12-24T20:08:56.221494Z"
    }
   },
   "outputs": [
    {
     "data": {
      "text/html": [
       "<div>\n",
       "<style scoped>\n",
       "    .dataframe tbody tr th:only-of-type {\n",
       "        vertical-align: middle;\n",
       "    }\n",
       "\n",
       "    .dataframe tbody tr th {\n",
       "        vertical-align: top;\n",
       "    }\n",
       "\n",
       "    .dataframe thead th {\n",
       "        text-align: right;\n",
       "    }\n",
       "</style>\n",
       "<table border=\"1\" class=\"dataframe\">\n",
       "  <thead>\n",
       "    <tr style=\"text-align: right;\">\n",
       "      <th></th>\n",
       "      <th>Population</th>\n",
       "      <th>GDP</th>\n",
       "    </tr>\n",
       "  </thead>\n",
       "  <tbody>\n",
       "    <tr>\n",
       "      <th>Population</th>\n",
       "      <td>1.000000</td>\n",
       "      <td>-0.867169</td>\n",
       "    </tr>\n",
       "    <tr>\n",
       "      <th>GDP</th>\n",
       "      <td>-0.867169</td>\n",
       "      <td>1.000000</td>\n",
       "    </tr>\n",
       "  </tbody>\n",
       "</table>\n",
       "</div>"
      ],
      "text/plain": [
       "            Population       GDP\n",
       "Population    1.000000 -0.867169\n",
       "GDP          -0.867169  1.000000"
      ]
     },
     "execution_count": 49,
     "metadata": {},
     "output_type": "execute_result"
    }
   ],
   "source": [
    "# join 2 dataframes and calculate correlation\n",
    "pop_c.join(gdp_c).corr()"
   ]
  },
  {
   "cell_type": "markdown",
   "metadata": {},
   "source": [
    "* There is a negative correlation mostly contributed by steady GDP grow before the Great Recession in 2008 and after the EU integration. \n",
    "* During the years after the war, up to 2001, and after the Great Recession, we see population decline. "
   ]
  },
  {
   "cell_type": "markdown",
   "metadata": {},
   "source": [
    "### GDP per Capita in Croatia vs. some EU and NA countries (1995 - 2018)"
   ]
  },
  {
   "cell_type": "markdown",
   "metadata": {},
   "source": [
    "Let's check relationship between GDP per Capita in Croatia compared to some EU and North America countries."
   ]
  },
  {
   "cell_type": "markdown",
   "metadata": {},
   "source": [
    "**Create new dataframe with countries for which we want to compare GDP per Capita**"
   ]
  },
  {
   "cell_type": "code",
   "execution_count": 50,
   "metadata": {
    "ExecuteTime": {
     "end_time": "2019-12-24T20:08:56.244496Z",
     "start_time": "2019-12-24T20:08:56.238494Z"
    }
   },
   "outputs": [
    {
     "data": {
      "text/plain": [
       "0    United States\n",
       "1          Ireland\n",
       "2          Germany\n",
       "3          Austria\n",
       "4           Canada\n",
       "5          Croatia\n",
       "dtype: object"
      ]
     },
     "execution_count": 50,
     "metadata": {},
     "output_type": "execute_result"
    }
   ],
   "source": [
    "# create Pandas series of countries\n",
    "eunac_cntr = pd.Series(['United States','Ireland','Germany','Austria','Canada', 'Croatia'])\n",
    "eunac_cntr"
   ]
  },
  {
   "cell_type": "code",
   "execution_count": 51,
   "metadata": {
    "ExecuteTime": {
     "end_time": "2019-12-24T20:08:56.267495Z",
     "start_time": "2019-12-24T20:08:56.246512Z"
    }
   },
   "outputs": [
    {
     "data": {
      "text/html": [
       "<div>\n",
       "<style scoped>\n",
       "    .dataframe tbody tr th:only-of-type {\n",
       "        vertical-align: middle;\n",
       "    }\n",
       "\n",
       "    .dataframe tbody tr th {\n",
       "        vertical-align: top;\n",
       "    }\n",
       "\n",
       "    .dataframe thead th {\n",
       "        text-align: right;\n",
       "    }\n",
       "</style>\n",
       "<table border=\"1\" class=\"dataframe\">\n",
       "  <thead>\n",
       "    <tr style=\"text-align: right;\">\n",
       "      <th></th>\n",
       "      <th>CountryName</th>\n",
       "      <th>CountryCode</th>\n",
       "      <th>Year</th>\n",
       "      <th>GDP (constant 2010 US$)</th>\n",
       "      <th>GDP per capita (constant 2010 US$)</th>\n",
       "      <th>Net migration</th>\n",
       "      <th>Population, total</th>\n",
       "    </tr>\n",
       "  </thead>\n",
       "  <tbody>\n",
       "    <tr>\n",
       "      <th>743</th>\n",
       "      <td>Austria</td>\n",
       "      <td>AUT</td>\n",
       "      <td>1995</td>\n",
       "      <td>2.904141e+11</td>\n",
       "      <td>36537.993039</td>\n",
       "      <td>NaN</td>\n",
       "      <td>7948278.0</td>\n",
       "    </tr>\n",
       "    <tr>\n",
       "      <th>744</th>\n",
       "      <td>Austria</td>\n",
       "      <td>AUT</td>\n",
       "      <td>1996</td>\n",
       "      <td>2.972375e+11</td>\n",
       "      <td>37346.007435</td>\n",
       "      <td>NaN</td>\n",
       "      <td>7959017.0</td>\n",
       "    </tr>\n",
       "  </tbody>\n",
       "</table>\n",
       "</div>"
      ],
      "text/plain": [
       "    CountryName CountryCode  Year  GDP (constant 2010 US$)  \\\n",
       "743     Austria         AUT  1995             2.904141e+11   \n",
       "744     Austria         AUT  1996             2.972375e+11   \n",
       "\n",
       "     GDP per capita (constant 2010 US$)  Net migration  Population, total  \n",
       "743                        36537.993039            NaN          7948278.0  \n",
       "744                        37346.007435            NaN          7959017.0  "
      ]
     },
     "execution_count": 51,
     "metadata": {},
     "output_type": "execute_result"
    }
   ],
   "source": [
    "# country mask\n",
    "mask_eunac = data['CountryName'].isin(eunac_cntr)\n",
    "# new dataframe\n",
    "eunac= data[mask_eunac].copy()\n",
    "eunac = eunac[eunac['Year'] >= 1995]\n",
    "eunac.head(2)"
   ]
  },
  {
   "cell_type": "code",
   "execution_count": 52,
   "metadata": {
    "ExecuteTime": {
     "end_time": "2019-12-24T20:08:56.286503Z",
     "start_time": "2019-12-24T20:08:56.269500Z"
    }
   },
   "outputs": [
    {
     "data": {
      "text/html": [
       "<div>\n",
       "<style scoped>\n",
       "    .dataframe tbody tr th:only-of-type {\n",
       "        vertical-align: middle;\n",
       "    }\n",
       "\n",
       "    .dataframe tbody tr th {\n",
       "        vertical-align: top;\n",
       "    }\n",
       "\n",
       "    .dataframe thead th {\n",
       "        text-align: right;\n",
       "    }\n",
       "</style>\n",
       "<table border=\"1\" class=\"dataframe\">\n",
       "  <thead>\n",
       "    <tr style=\"text-align: right;\">\n",
       "      <th></th>\n",
       "      <th>CountryName</th>\n",
       "      <th>CountryCode</th>\n",
       "      <th>Year</th>\n",
       "      <th>GDPperCapita</th>\n",
       "    </tr>\n",
       "  </thead>\n",
       "  <tbody>\n",
       "    <tr>\n",
       "      <th>743</th>\n",
       "      <td>Austria</td>\n",
       "      <td>AUT</td>\n",
       "      <td>1995</td>\n",
       "      <td>36537.993039</td>\n",
       "    </tr>\n",
       "    <tr>\n",
       "      <th>744</th>\n",
       "      <td>Austria</td>\n",
       "      <td>AUT</td>\n",
       "      <td>1996</td>\n",
       "      <td>37346.007435</td>\n",
       "    </tr>\n",
       "  </tbody>\n",
       "</table>\n",
       "</div>"
      ],
      "text/plain": [
       "    CountryName CountryCode  Year  GDPperCapita\n",
       "743     Austria         AUT  1995  36537.993039\n",
       "744     Austria         AUT  1996  37346.007435"
      ]
     },
     "execution_count": 52,
     "metadata": {},
     "output_type": "execute_result"
    }
   ],
   "source": [
    "# drop not needed columns, keep GDP only\n",
    "gdp_eunac = eunac.drop(['GDP (constant 2010 US$)','Net migration','Population, total'],axis=1)\n",
    "# rename GDP column\n",
    "gdp_eunac = gdp_eunac.rename(columns={'GDP per capita (constant 2010 US$)':'GDPperCapita'})\n",
    "gdp_eunac.head(2)"
   ]
  },
  {
   "cell_type": "markdown",
   "metadata": {},
   "source": [
    "**Reshape new dataframe to have countries in columns**"
   ]
  },
  {
   "cell_type": "code",
   "execution_count": 53,
   "metadata": {
    "ExecuteTime": {
     "end_time": "2019-12-24T20:08:56.315493Z",
     "start_time": "2019-12-24T20:08:56.288497Z"
    }
   },
   "outputs": [
    {
     "data": {
      "text/html": [
       "<div>\n",
       "<style scoped>\n",
       "    .dataframe tbody tr th:only-of-type {\n",
       "        vertical-align: middle;\n",
       "    }\n",
       "\n",
       "    .dataframe tbody tr th {\n",
       "        vertical-align: top;\n",
       "    }\n",
       "\n",
       "    .dataframe thead th {\n",
       "        text-align: right;\n",
       "    }\n",
       "</style>\n",
       "<table border=\"1\" class=\"dataframe\">\n",
       "  <thead>\n",
       "    <tr style=\"text-align: right;\">\n",
       "      <th>CountryName</th>\n",
       "      <th>Austria</th>\n",
       "      <th>Canada</th>\n",
       "      <th>Croatia</th>\n",
       "      <th>Germany</th>\n",
       "      <th>Ireland</th>\n",
       "      <th>United States</th>\n",
       "    </tr>\n",
       "    <tr>\n",
       "      <th>Year</th>\n",
       "      <th></th>\n",
       "      <th></th>\n",
       "      <th></th>\n",
       "      <th></th>\n",
       "      <th></th>\n",
       "      <th></th>\n",
       "    </tr>\n",
       "  </thead>\n",
       "  <tbody>\n",
       "    <tr>\n",
       "      <th>1995</th>\n",
       "      <td>36537.993039</td>\n",
       "      <td>37600.330122</td>\n",
       "      <td>8563.04239</td>\n",
       "      <td>34782.568625</td>\n",
       "      <td>29694.647007</td>\n",
       "      <td>38369.161843</td>\n",
       "    </tr>\n",
       "    <tr>\n",
       "      <th>1996</th>\n",
       "      <td>37346.007435</td>\n",
       "      <td>37811.713235</td>\n",
       "      <td>9191.21024</td>\n",
       "      <td>34965.690886</td>\n",
       "      <td>31644.886087</td>\n",
       "      <td>39356.091800</td>\n",
       "    </tr>\n",
       "  </tbody>\n",
       "</table>\n",
       "</div>"
      ],
      "text/plain": [
       "CountryName       Austria        Canada     Croatia       Germany  \\\n",
       "Year                                                                \n",
       "1995         36537.993039  37600.330122  8563.04239  34782.568625   \n",
       "1996         37346.007435  37811.713235  9191.21024  34965.690886   \n",
       "\n",
       "CountryName       Ireland  United States  \n",
       "Year                                      \n",
       "1995         29694.647007   38369.161843  \n",
       "1996         31644.886087   39356.091800  "
      ]
     },
     "execution_count": 53,
     "metadata": {},
     "output_type": "execute_result"
    }
   ],
   "source": [
    "# reshape/pivot dataframe\n",
    "gdp_eunac = gdp_eunac.pivot_table(values='GDPperCapita',columns=('CountryName'),index='Year')\n",
    "gdp_eunac.head(2)"
   ]
  },
  {
   "cell_type": "code",
   "execution_count": 54,
   "metadata": {
    "ExecuteTime": {
     "end_time": "2019-12-24T20:08:56.332529Z",
     "start_time": "2019-12-24T20:08:56.317505Z"
    }
   },
   "outputs": [
    {
     "data": {
      "text/html": [
       "<div>\n",
       "<style scoped>\n",
       "    .dataframe tbody tr th:only-of-type {\n",
       "        vertical-align: middle;\n",
       "    }\n",
       "\n",
       "    .dataframe tbody tr th {\n",
       "        vertical-align: top;\n",
       "    }\n",
       "\n",
       "    .dataframe thead th {\n",
       "        text-align: right;\n",
       "    }\n",
       "</style>\n",
       "<table border=\"1\" class=\"dataframe\">\n",
       "  <thead>\n",
       "    <tr style=\"text-align: right;\">\n",
       "      <th></th>\n",
       "      <th>Year</th>\n",
       "      <th>Austria</th>\n",
       "      <th>Canada</th>\n",
       "      <th>Croatia</th>\n",
       "      <th>Germany</th>\n",
       "      <th>Ireland</th>\n",
       "      <th>United States</th>\n",
       "    </tr>\n",
       "  </thead>\n",
       "  <tbody>\n",
       "    <tr>\n",
       "      <th>22</th>\n",
       "      <td>2017</td>\n",
       "      <td>49190.173414</td>\n",
       "      <td>51150.754621</td>\n",
       "      <td>15331.902482</td>\n",
       "      <td>46987.787982</td>\n",
       "      <td>71755.967008</td>\n",
       "      <td>53356.236236</td>\n",
       "    </tr>\n",
       "    <tr>\n",
       "      <th>23</th>\n",
       "      <td>2018</td>\n",
       "      <td>50250.045060</td>\n",
       "      <td>51382.422790</td>\n",
       "      <td>15870.281155</td>\n",
       "      <td>47501.812652</td>\n",
       "      <td>76880.807713</td>\n",
       "      <td>54541.720518</td>\n",
       "    </tr>\n",
       "  </tbody>\n",
       "</table>\n",
       "</div>"
      ],
      "text/plain": [
       "    Year       Austria        Canada       Croatia       Germany  \\\n",
       "22  2017  49190.173414  51150.754621  15331.902482  46987.787982   \n",
       "23  2018  50250.045060  51382.422790  15870.281155  47501.812652   \n",
       "\n",
       "         Ireland  United States  \n",
       "22  71755.967008   53356.236236  \n",
       "23  76880.807713   54541.720518  "
      ]
     },
     "execution_count": 54,
     "metadata": {},
     "output_type": "execute_result"
    }
   ],
   "source": [
    "# Remove column name \"CountryName\"\n",
    "gdp_eunac.columns.name = None\n",
    "# Insert index \"Year\" as column and reset index to default integer index\n",
    "gdp_eunac.reset_index(inplace=True)\n",
    "gdp_eunac.tail(2)"
   ]
  },
  {
   "cell_type": "markdown",
   "metadata": {},
   "source": [
    "**Plot GDP for all countries in dataframe**"
   ]
  },
  {
   "cell_type": "code",
   "execution_count": 55,
   "metadata": {
    "ExecuteTime": {
     "end_time": "2019-12-24T20:08:56.520492Z",
     "start_time": "2019-12-24T20:08:56.333522Z"
    }
   },
   "outputs": [
    {
     "data": {
      "image/png": "[encoded data removed]",
      "text/plain": [
       "<Figure size 576x432 with 1 Axes>"
      ]
     },
     "metadata": {
      "needs_background": "light"
     },
     "output_type": "display_data"
    }
   ],
   "source": [
    "# plt.figure() # create figure\n",
    "\n",
    "ax = gdp_eunac.plot(x='Year',kind='line',figsize=(8,6),colormap='Paired')\n",
    "ax.legend(shadow=True)\n",
    "\n",
    "ax.set_title ('GDP per Capita in Croatia \\nvs. some EU and NA countries (1995 - 2018)',fontsize=14)\n",
    "ax.set_ylabel(cols[4],fontsize=12)\n",
    "ax.set_xlabel('Year',fontsize=12)\n",
    "\n",
    "ax.grid(True)\n",
    "\n",
    "# ensure that x-axis have integer-only tick labels\n",
    "# and increase number of ticks\n",
    "ax.xaxis.set_major_locator(tkr.MaxNLocator(integer=True))\n",
    "# reformat tick labels with thousand's K and comma separator\n",
    "ax.yaxis.set_major_formatter(tkr.FuncFormatter(lambda x, p: \"{:,.0f}K\".format(x*1e-3)))\n",
    "\n",
    "plt.show()\n",
    "#plt.savefig(\"./Figures/GDP_line_EU_NA_C.png\")"
   ]
  },
  {
   "cell_type": "markdown",
   "metadata": {},
   "source": [
    "* All countries had a significant deep in GDP per Capita after the Great Recession (2008).\n",
    "* Croatia's GDP per Capita fell about 10% following the Great Recession. It completely recovered since 2014 with steady growth of 3% - 4% per year.\n",
    "* Increasing GDP per Capita in Croatia (~\\\\$16000) is still well below \\\\$50000 (Austria, Canada, US, Germany) and \\\\$75000 (Ireland)"
   ]
  },
  {
   "cell_type": "markdown",
   "metadata": {},
   "source": [
    "**GDP Impact:**"
   ]
  },
  {
   "cell_type": "markdown",
   "metadata": {},
   "source": [
    "* We can see negative correlation between GDP and population growth for Croatia, but there is no causation\n",
    "* Looking only at GDP of Croatia, it is hard to believe that people would emigrate when GDP is increasing. There is something else:\n",
    " 1. Low GDP per Capita in Croatia, compared to other listed countries, has probably a huge impact to emigration.\n",
    " * Integration to the EU helped for easy and free move to other EU members\n"
   ]
  },
  {
   "cell_type": "markdown",
   "metadata": {},
   "source": [
    "### The final conclusion:"
   ]
  },
  {
   "cell_type": "markdown",
   "metadata": {},
   "source": [
    "* The Yugoslav wars heavily impacted population of Croatia for almost a decade\n",
    "\n",
    "* The Great Recession had a smaller but still significant impact that lasted for many years\n",
    "\n",
    "* I believe from experience that joining EU caused continuous population decline. A significant number of young people is leaving Croatia every year. \n",
    "\n",
    "* There is no direct relationship between GDP in Croatia and population decline. \n",
    "\n",
    "* Croatia GDP per Capita is steadily increasing since 2014 but GDP per Capita in many EU countries is 4 - 5 times higher than in Croatia. This, combined with right to move and reside freely throughout the EU is probably the main reason for population decline in the last decade."
   ]
  },
  {
   "cell_type": "code",
   "execution_count": null,
   "metadata": {},
   "outputs": [],
   "source": []
  }
 ],
 "metadata": {
  "kernelspec": {
   "display_name": "Python 3",
   "language": "python",
   "name": "python3"
  },
  "language_info": {
   "codemirror_mode": {
    "name": "ipython",
    "version": 3
   },
   "file_extension": ".py",
   "mimetype": "text/x-python",
   "name": "python",
   "nbconvert_exporter": "python",
   "pygments_lexer": "ipython3",
   "version": "3.7.6"
  }
 },
 "nbformat": 4,
 "nbformat_minor": 2
}
